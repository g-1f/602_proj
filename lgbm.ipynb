{
 "cells": [
  {
   "cell_type": "code",
   "execution_count": 29,
   "metadata": {},
   "outputs": [],
   "source": [
    "from sklearn.model_selection import TimeSeriesSplit\n",
    "import numpy as np\n",
    "import lightgbm as lgb\n",
    "import pandas as pd\n",
    "\n",
    "train = pd.read_csv('train.csv')\n",
    "df_train = pd.read_csv('df_train.csv', index_col='row_id')\n",
    "df_test = pd.read_csv('df_test.csv', index_col='row_id')\n",
    "target_train = pd.read_csv('target_train.csv', index_col='row_id').squeeze()\n",
    "target_test = pd.read_csv('target_test.csv', index_col='row_id').squeeze()"
   ]
  },
  {
   "cell_type": "code",
   "execution_count": 30,
   "metadata": {},
   "outputs": [],
   "source": [
    "def smape_loss(y_true, y_pred):\n",
    "    \"\"\"\n",
    "    Custom SMAPE loss function for LightGBM\n",
    "    \"\"\"\n",
    "    return np.mean(2 * np.abs(y_pred - y_true) / (np.abs(y_true) + np.abs(y_pred))) * 100\n",
    "\n",
    "def smape_cv(model, df_train, target_train):\n",
    "    tscv = TimeSeriesSplit(n_splits=5)\n",
    "    smape_list = []\n",
    "    for _, (train_index, test_index) in enumerate(tscv.split(df_train), start=1):\n",
    "        # Create training and validation datasets\n",
    "        X_train = df_train.iloc[train_index]\n",
    "        y_train = target_train.iloc[train_index]\n",
    "        X_valid = df_train.iloc[test_index]\n",
    "        y_valid = target_train.iloc[test_index]\n",
    "\n",
    "        # Train the model\n",
    "        model.fit(X_train, y_train, eval_set=[(X_valid, y_valid)], eval_metric='mape', verbose=False)\n",
    "\n",
    "        # Make predictions\n",
    "        y_pred = np.exp(model.predict(X_valid)) * X_valid['microbusiness_density']\n",
    "        y_valid = np.exp(y_valid) * X_valid['microbusiness_density']\n",
    "\n",
    "        # Calculate SMAPE score\n",
    "        smape = smape_loss(y_valid, y_pred)\n",
    "        smape_list.append(smape)\n",
    "    \n",
    "    print(f'Mean SMAPE: {np.mean(smape_list):.4f}')\n",
    "    return np.mean(smape_list)\n",
    "\n",
    "def lgbm_objective(trial, df_train, target_train):\n",
    "    \"\"\"\n",
    "    Objective function for LightGBM optimization without rolling window cross-validation.\n",
    "    \"\"\"\n",
    "    params = {\n",
    "        'n_estimators'      : 200,\n",
    "        'verbose'           : -1,\n",
    "        'objective'         : 'regression_l1',\n",
    "        'random_state'      : 42,\n",
    "        'extra_trees'       : True,\n",
    "        'colsample_bytree'  : trial.suggest_float('colsample_bytree', 0.1, 1.0),\n",
    "        'colsample_bynode'  : trial.suggest_float('colsample_bynode', 0.1, 1.0),\n",
    "        'max_depth'         : trial.suggest_int('max_depth', 3, 10),\n",
    "        'learning_rate'     : trial.suggest_float('learning_rate', 0.01, 0.1, log=True),\n",
    "        'lambda_l1'         : trial.suggest_float('lambda_l1', 1e-2, 10.0),\n",
    "        'lambda_l2'         : trial.suggest_float('lambda_l2', 1e-2, 10.0),\n",
    "        'num_leaves'        : trial.suggest_int('num_leaves', 8, 1024),\n",
    "        'min_data_in_leaf'  : trial.suggest_int('min_data_in_leaf', 5, 250),\n",
    "        'early_stopping_round': 50,}\n",
    "\n",
    "    model = lgb.LGBMRegressor(**params)\n",
    "    score = smape_cv(model, df_train, target_train)\n",
    "    return score"
   ]
  },
  {
   "cell_type": "code",
   "execution_count": 31,
   "metadata": {},
   "outputs": [
    {
     "name": "stderr",
     "output_type": "stream",
     "text": [
      "\u001b[32m[I 2023-04-16 04:03:04,336]\u001b[0m A new study created in memory with name: no-name-79375568-c738-477b-9927-23ebdb2f8d7c\u001b[0m\n",
      "/opt/homebrew/Caskroom/miniforge/base/envs/base_env/lib/python3.8/site-packages/lightgbm/sklearn.py:736: UserWarning: 'verbose' argument is deprecated and will be removed in a future release of LightGBM. Pass 'log_evaluation()' callback via 'callbacks' argument instead.\n",
      "  _log_warning(\"'verbose' argument is deprecated and will be removed in a future release of LightGBM. \"\n"
     ]
    },
    {
     "name": "stdout",
     "output_type": "stream",
     "text": [
      "[LightGBM] [Warning] min_data_in_leaf is set=14, min_child_samples=20 will be ignored. Current value: min_data_in_leaf=14\n",
      "[LightGBM] [Warning] lambda_l2 is set=2.9497479075951083, reg_lambda=0.0 will be ignored. Current value: lambda_l2=2.9497479075951083\n",
      "[LightGBM] [Warning] lambda_l1 is set=2.5162708518776586, reg_alpha=0.0 will be ignored. Current value: lambda_l1=2.5162708518776586\n",
      "[LightGBM] [Warning] min_data_in_leaf is set=14, min_child_samples=20 will be ignored. Current value: min_data_in_leaf=14\n",
      "[LightGBM] [Warning] lambda_l2 is set=2.9497479075951083, reg_lambda=0.0 will be ignored. Current value: lambda_l2=2.9497479075951083\n",
      "[LightGBM] [Warning] lambda_l1 is set=2.5162708518776586, reg_alpha=0.0 will be ignored. Current value: lambda_l1=2.5162708518776586\n",
      "[LightGBM] [Warning] min_data_in_leaf is set=14, min_child_samples=20 will be ignored. Current value: min_data_in_leaf=14\n",
      "[LightGBM] [Warning] lambda_l2 is set=2.9497479075951083, reg_lambda=0.0 will be ignored. Current value: lambda_l2=2.9497479075951083\n",
      "[LightGBM] [Warning] lambda_l1 is set=2.5162708518776586, reg_alpha=0.0 will be ignored. Current value: lambda_l1=2.5162708518776586\n",
      "[LightGBM] [Warning] min_data_in_leaf is set=14, min_child_samples=20 will be ignored. Current value: min_data_in_leaf=14\n",
      "[LightGBM] [Warning] lambda_l2 is set=2.9497479075951083, reg_lambda=0.0 will be ignored. Current value: lambda_l2=2.9497479075951083\n",
      "[LightGBM] [Warning] lambda_l1 is set=2.5162708518776586, reg_alpha=0.0 will be ignored. Current value: lambda_l1=2.5162708518776586\n"
     ]
    },
    {
     "name": "stderr",
     "output_type": "stream",
     "text": [
      "\u001b[32m[I 2023-04-16 04:03:36,167]\u001b[0m Trial 0 finished with value: 1.743668328012426 and parameters: {'colsample_bytree': 0.9101158510912557, 'colsample_bynode': 0.7950496453512623, 'max_depth': 8, 'learning_rate': 0.01822180689543358, 'lambda_l1': 2.5162708518776586, 'lambda_l2': 2.9497479075951083, 'num_leaves': 445, 'min_data_in_leaf': 14}. Best is trial 0 with value: 1.743668328012426.\u001b[0m\n"
     ]
    },
    {
     "name": "stdout",
     "output_type": "stream",
     "text": [
      "Mean SMAPE: 1.7437\n",
      "[LightGBM] [Warning] min_data_in_leaf is set=113, min_child_samples=20 will be ignored. Current value: min_data_in_leaf=113\n",
      "[LightGBM] [Warning] lambda_l2 is set=1.1082355556861707, reg_lambda=0.0 will be ignored. Current value: lambda_l2=1.1082355556861707\n",
      "[LightGBM] [Warning] lambda_l1 is set=4.833291533136985, reg_alpha=0.0 will be ignored. Current value: lambda_l1=4.833291533136985\n",
      "[LightGBM] [Warning] min_data_in_leaf is set=113, min_child_samples=20 will be ignored. Current value: min_data_in_leaf=113\n",
      "[LightGBM] [Warning] lambda_l2 is set=1.1082355556861707, reg_lambda=0.0 will be ignored. Current value: lambda_l2=1.1082355556861707\n",
      "[LightGBM] [Warning] lambda_l1 is set=4.833291533136985, reg_alpha=0.0 will be ignored. Current value: lambda_l1=4.833291533136985\n",
      "[LightGBM] [Warning] min_data_in_leaf is set=113, min_child_samples=20 will be ignored. Current value: min_data_in_leaf=113\n",
      "[LightGBM] [Warning] lambda_l2 is set=1.1082355556861707, reg_lambda=0.0 will be ignored. Current value: lambda_l2=1.1082355556861707\n",
      "[LightGBM] [Warning] lambda_l1 is set=4.833291533136985, reg_alpha=0.0 will be ignored. Current value: lambda_l1=4.833291533136985\n",
      "[LightGBM] [Warning] min_data_in_leaf is set=113, min_child_samples=20 will be ignored. Current value: min_data_in_leaf=113\n",
      "[LightGBM] [Warning] lambda_l2 is set=1.1082355556861707, reg_lambda=0.0 will be ignored. Current value: lambda_l2=1.1082355556861707\n",
      "[LightGBM] [Warning] lambda_l1 is set=4.833291533136985, reg_alpha=0.0 will be ignored. Current value: lambda_l1=4.833291533136985\n",
      "[LightGBM] [Warning] min_data_in_leaf is set=113, min_child_samples=20 will be ignored. Current value: min_data_in_leaf=113\n",
      "[LightGBM] [Warning] lambda_l2 is set=1.1082355556861707, reg_lambda=0.0 will be ignored. Current value: lambda_l2=1.1082355556861707\n",
      "[LightGBM] [Warning] lambda_l1 is set=4.833291533136985, reg_alpha=0.0 will be ignored. Current value: lambda_l1=4.833291533136985\n"
     ]
    },
    {
     "name": "stderr",
     "output_type": "stream",
     "text": [
      "\u001b[32m[I 2023-04-16 04:03:43,156]\u001b[0m Trial 1 finished with value: 1.7594763742191233 and parameters: {'colsample_bytree': 0.7869775799988069, 'colsample_bynode': 0.3231580682880848, 'max_depth': 3, 'learning_rate': 0.0913837832744824, 'lambda_l1': 4.833291533136985, 'lambda_l2': 1.1082355556861707, 'num_leaves': 912, 'min_data_in_leaf': 113}. Best is trial 0 with value: 1.743668328012426.\u001b[0m\n"
     ]
    },
    {
     "name": "stdout",
     "output_type": "stream",
     "text": [
      "Mean SMAPE: 1.7595\n",
      "[LightGBM] [Warning] min_data_in_leaf is set=98, min_child_samples=20 will be ignored. Current value: min_data_in_leaf=98\n",
      "[LightGBM] [Warning] lambda_l2 is set=9.669237847358422, reg_lambda=0.0 will be ignored. Current value: lambda_l2=9.669237847358422\n",
      "[LightGBM] [Warning] lambda_l1 is set=4.052087948078223, reg_alpha=0.0 will be ignored. Current value: lambda_l1=4.052087948078223\n",
      "[LightGBM] [Warning] min_data_in_leaf is set=98, min_child_samples=20 will be ignored. Current value: min_data_in_leaf=98\n",
      "[LightGBM] [Warning] lambda_l2 is set=9.669237847358422, reg_lambda=0.0 will be ignored. Current value: lambda_l2=9.669237847358422\n",
      "[LightGBM] [Warning] lambda_l1 is set=4.052087948078223, reg_alpha=0.0 will be ignored. Current value: lambda_l1=4.052087948078223\n",
      "[LightGBM] [Warning] min_data_in_leaf is set=98, min_child_samples=20 will be ignored. Current value: min_data_in_leaf=98\n",
      "[LightGBM] [Warning] lambda_l2 is set=9.669237847358422, reg_lambda=0.0 will be ignored. Current value: lambda_l2=9.669237847358422\n",
      "[LightGBM] [Warning] lambda_l1 is set=4.052087948078223, reg_alpha=0.0 will be ignored. Current value: lambda_l1=4.052087948078223\n",
      "[LightGBM] [Warning] min_data_in_leaf is set=98, min_child_samples=20 will be ignored. Current value: min_data_in_leaf=98\n",
      "[LightGBM] [Warning] lambda_l2 is set=9.669237847358422, reg_lambda=0.0 will be ignored. Current value: lambda_l2=9.669237847358422\n",
      "[LightGBM] [Warning] lambda_l1 is set=4.052087948078223, reg_alpha=0.0 will be ignored. Current value: lambda_l1=4.052087948078223\n",
      "[LightGBM] [Warning] min_data_in_leaf is set=98, min_child_samples=20 will be ignored. Current value: min_data_in_leaf=98\n",
      "[LightGBM] [Warning] lambda_l2 is set=9.669237847358422, reg_lambda=0.0 will be ignored. Current value: lambda_l2=9.669237847358422\n",
      "[LightGBM] [Warning] lambda_l1 is set=4.052087948078223, reg_alpha=0.0 will be ignored. Current value: lambda_l1=4.052087948078223\n"
     ]
    },
    {
     "name": "stderr",
     "output_type": "stream",
     "text": [
      "\u001b[32m[I 2023-04-16 04:04:09,265]\u001b[0m Trial 2 finished with value: 1.7451131523857533 and parameters: {'colsample_bytree': 0.694606850736839, 'colsample_bynode': 0.46263929362924106, 'max_depth': 9, 'learning_rate': 0.08586990864129194, 'lambda_l1': 4.052087948078223, 'lambda_l2': 9.669237847358422, 'num_leaves': 477, 'min_data_in_leaf': 98}. Best is trial 0 with value: 1.743668328012426.\u001b[0m\n"
     ]
    },
    {
     "name": "stdout",
     "output_type": "stream",
     "text": [
      "Mean SMAPE: 1.7451\n",
      "[LightGBM] [Warning] min_data_in_leaf is set=73, min_child_samples=20 will be ignored. Current value: min_data_in_leaf=73\n",
      "[LightGBM] [Warning] lambda_l2 is set=2.8697342532911643, reg_lambda=0.0 will be ignored. Current value: lambda_l2=2.8697342532911643\n",
      "[LightGBM] [Warning] lambda_l1 is set=7.092336873263224, reg_alpha=0.0 will be ignored. Current value: lambda_l1=7.092336873263224\n",
      "[LightGBM] [Warning] min_data_in_leaf is set=73, min_child_samples=20 will be ignored. Current value: min_data_in_leaf=73\n",
      "[LightGBM] [Warning] lambda_l2 is set=2.8697342532911643, reg_lambda=0.0 will be ignored. Current value: lambda_l2=2.8697342532911643\n",
      "[LightGBM] [Warning] lambda_l1 is set=7.092336873263224, reg_alpha=0.0 will be ignored. Current value: lambda_l1=7.092336873263224\n",
      "[LightGBM] [Warning] min_data_in_leaf is set=73, min_child_samples=20 will be ignored. Current value: min_data_in_leaf=73\n",
      "[LightGBM] [Warning] lambda_l2 is set=2.8697342532911643, reg_lambda=0.0 will be ignored. Current value: lambda_l2=2.8697342532911643\n",
      "[LightGBM] [Warning] lambda_l1 is set=7.092336873263224, reg_alpha=0.0 will be ignored. Current value: lambda_l1=7.092336873263224\n",
      "[LightGBM] [Warning] min_data_in_leaf is set=73, min_child_samples=20 will be ignored. Current value: min_data_in_leaf=73\n",
      "[LightGBM] [Warning] lambda_l2 is set=2.8697342532911643, reg_lambda=0.0 will be ignored. Current value: lambda_l2=2.8697342532911643\n",
      "[LightGBM] [Warning] lambda_l1 is set=7.092336873263224, reg_alpha=0.0 will be ignored. Current value: lambda_l1=7.092336873263224\n",
      "[LightGBM] [Warning] min_data_in_leaf is set=73, min_child_samples=20 will be ignored. Current value: min_data_in_leaf=73\n",
      "[LightGBM] [Warning] lambda_l2 is set=2.8697342532911643, reg_lambda=0.0 will be ignored. Current value: lambda_l2=2.8697342532911643\n",
      "[LightGBM] [Warning] lambda_l1 is set=7.092336873263224, reg_alpha=0.0 will be ignored. Current value: lambda_l1=7.092336873263224\n"
     ]
    },
    {
     "name": "stderr",
     "output_type": "stream",
     "text": [
      "\u001b[32m[I 2023-04-16 04:04:26,034]\u001b[0m Trial 3 finished with value: 1.750253627962214 and parameters: {'colsample_bytree': 0.6207516419315072, 'colsample_bynode': 0.22679922764141547, 'max_depth': 7, 'learning_rate': 0.09320530812950635, 'lambda_l1': 7.092336873263224, 'lambda_l2': 2.8697342532911643, 'num_leaves': 985, 'min_data_in_leaf': 73}. Best is trial 0 with value: 1.743668328012426.\u001b[0m\n"
     ]
    },
    {
     "name": "stdout",
     "output_type": "stream",
     "text": [
      "Mean SMAPE: 1.7503\n",
      "[LightGBM] [Warning] min_data_in_leaf is set=46, min_child_samples=20 will be ignored. Current value: min_data_in_leaf=46\n",
      "[LightGBM] [Warning] lambda_l2 is set=6.595828779817709, reg_lambda=0.0 will be ignored. Current value: lambda_l2=6.595828779817709\n",
      "[LightGBM] [Warning] lambda_l1 is set=2.5584560677185886, reg_alpha=0.0 will be ignored. Current value: lambda_l1=2.5584560677185886\n",
      "[LightGBM] [Warning] min_data_in_leaf is set=46, min_child_samples=20 will be ignored. Current value: min_data_in_leaf=46\n",
      "[LightGBM] [Warning] lambda_l2 is set=6.595828779817709, reg_lambda=0.0 will be ignored. Current value: lambda_l2=6.595828779817709\n",
      "[LightGBM] [Warning] lambda_l1 is set=2.5584560677185886, reg_alpha=0.0 will be ignored. Current value: lambda_l1=2.5584560677185886\n",
      "[LightGBM] [Warning] min_data_in_leaf is set=46, min_child_samples=20 will be ignored. Current value: min_data_in_leaf=46\n",
      "[LightGBM] [Warning] lambda_l2 is set=6.595828779817709, reg_lambda=0.0 will be ignored. Current value: lambda_l2=6.595828779817709\n",
      "[LightGBM] [Warning] lambda_l1 is set=2.5584560677185886, reg_alpha=0.0 will be ignored. Current value: lambda_l1=2.5584560677185886\n",
      "[LightGBM] [Warning] min_data_in_leaf is set=46, min_child_samples=20 will be ignored. Current value: min_data_in_leaf=46\n",
      "[LightGBM] [Warning] lambda_l2 is set=6.595828779817709, reg_lambda=0.0 will be ignored. Current value: lambda_l2=6.595828779817709\n",
      "[LightGBM] [Warning] lambda_l1 is set=2.5584560677185886, reg_alpha=0.0 will be ignored. Current value: lambda_l1=2.5584560677185886\n",
      "[LightGBM] [Warning] min_data_in_leaf is set=46, min_child_samples=20 will be ignored. Current value: min_data_in_leaf=46\n",
      "[LightGBM] [Warning] lambda_l2 is set=6.595828779817709, reg_lambda=0.0 will be ignored. Current value: lambda_l2=6.595828779817709\n",
      "[LightGBM] [Warning] lambda_l1 is set=2.5584560677185886, reg_alpha=0.0 will be ignored. Current value: lambda_l1=2.5584560677185886\n"
     ]
    },
    {
     "name": "stderr",
     "output_type": "stream",
     "text": [
      "\u001b[32m[I 2023-04-16 04:04:50,144]\u001b[0m Trial 4 finished with value: 1.765970658421228 and parameters: {'colsample_bytree': 0.3895490294996682, 'colsample_bynode': 0.10745088172479553, 'max_depth': 10, 'learning_rate': 0.040187954499281926, 'lambda_l1': 2.5584560677185886, 'lambda_l2': 6.595828779817709, 'num_leaves': 995, 'min_data_in_leaf': 46}. Best is trial 0 with value: 1.743668328012426.\u001b[0m\n"
     ]
    },
    {
     "name": "stdout",
     "output_type": "stream",
     "text": [
      "Mean SMAPE: 1.7660\n",
      "[LightGBM] [Warning] min_data_in_leaf is set=41, min_child_samples=20 will be ignored. Current value: min_data_in_leaf=41\n",
      "[LightGBM] [Warning] lambda_l2 is set=2.7020526588380442, reg_lambda=0.0 will be ignored. Current value: lambda_l2=2.7020526588380442\n",
      "[LightGBM] [Warning] lambda_l1 is set=6.559444976912319, reg_alpha=0.0 will be ignored. Current value: lambda_l1=6.559444976912319\n",
      "[LightGBM] [Warning] min_data_in_leaf is set=41, min_child_samples=20 will be ignored. Current value: min_data_in_leaf=41\n",
      "[LightGBM] [Warning] lambda_l2 is set=2.7020526588380442, reg_lambda=0.0 will be ignored. Current value: lambda_l2=2.7020526588380442\n",
      "[LightGBM] [Warning] lambda_l1 is set=6.559444976912319, reg_alpha=0.0 will be ignored. Current value: lambda_l1=6.559444976912319\n",
      "[LightGBM] [Warning] min_data_in_leaf is set=41, min_child_samples=20 will be ignored. Current value: min_data_in_leaf=41\n",
      "[LightGBM] [Warning] lambda_l2 is set=2.7020526588380442, reg_lambda=0.0 will be ignored. Current value: lambda_l2=2.7020526588380442\n",
      "[LightGBM] [Warning] lambda_l1 is set=6.559444976912319, reg_alpha=0.0 will be ignored. Current value: lambda_l1=6.559444976912319\n",
      "[LightGBM] [Warning] min_data_in_leaf is set=41, min_child_samples=20 will be ignored. Current value: min_data_in_leaf=41\n",
      "[LightGBM] [Warning] lambda_l2 is set=2.7020526588380442, reg_lambda=0.0 will be ignored. Current value: lambda_l2=2.7020526588380442\n",
      "[LightGBM] [Warning] lambda_l1 is set=6.559444976912319, reg_alpha=0.0 will be ignored. Current value: lambda_l1=6.559444976912319\n",
      "[LightGBM] [Warning] min_data_in_leaf is set=41, min_child_samples=20 will be ignored. Current value: min_data_in_leaf=41\n",
      "[LightGBM] [Warning] lambda_l2 is set=2.7020526588380442, reg_lambda=0.0 will be ignored. Current value: lambda_l2=2.7020526588380442\n",
      "[LightGBM] [Warning] lambda_l1 is set=6.559444976912319, reg_alpha=0.0 will be ignored. Current value: lambda_l1=6.559444976912319\n"
     ]
    },
    {
     "name": "stderr",
     "output_type": "stream",
     "text": [
      "\u001b[32m[I 2023-04-16 04:05:20,239]\u001b[0m Trial 5 finished with value: 1.749977290417964 and parameters: {'colsample_bytree': 0.8245367376571622, 'colsample_bynode': 0.3387809566068425, 'max_depth': 9, 'learning_rate': 0.018708397886125373, 'lambda_l1': 6.559444976912319, 'lambda_l2': 2.7020526588380442, 'num_leaves': 277, 'min_data_in_leaf': 41}. Best is trial 0 with value: 1.743668328012426.\u001b[0m\n"
     ]
    },
    {
     "name": "stdout",
     "output_type": "stream",
     "text": [
      "Mean SMAPE: 1.7500\n",
      "[LightGBM] [Warning] min_data_in_leaf is set=9, min_child_samples=20 will be ignored. Current value: min_data_in_leaf=9\n",
      "[LightGBM] [Warning] lambda_l2 is set=6.753227814837282, reg_lambda=0.0 will be ignored. Current value: lambda_l2=6.753227814837282\n",
      "[LightGBM] [Warning] lambda_l1 is set=1.6042721065671621, reg_alpha=0.0 will be ignored. Current value: lambda_l1=1.6042721065671621\n",
      "[LightGBM] [Warning] min_data_in_leaf is set=9, min_child_samples=20 will be ignored. Current value: min_data_in_leaf=9\n",
      "[LightGBM] [Warning] lambda_l2 is set=6.753227814837282, reg_lambda=0.0 will be ignored. Current value: lambda_l2=6.753227814837282\n",
      "[LightGBM] [Warning] lambda_l1 is set=1.6042721065671621, reg_alpha=0.0 will be ignored. Current value: lambda_l1=1.6042721065671621\n",
      "[LightGBM] [Warning] min_data_in_leaf is set=9, min_child_samples=20 will be ignored. Current value: min_data_in_leaf=9\n",
      "[LightGBM] [Warning] lambda_l2 is set=6.753227814837282, reg_lambda=0.0 will be ignored. Current value: lambda_l2=6.753227814837282\n",
      "[LightGBM] [Warning] lambda_l1 is set=1.6042721065671621, reg_alpha=0.0 will be ignored. Current value: lambda_l1=1.6042721065671621\n",
      "[LightGBM] [Warning] min_data_in_leaf is set=9, min_child_samples=20 will be ignored. Current value: min_data_in_leaf=9\n",
      "[LightGBM] [Warning] lambda_l2 is set=6.753227814837282, reg_lambda=0.0 will be ignored. Current value: lambda_l2=6.753227814837282\n",
      "[LightGBM] [Warning] lambda_l1 is set=1.6042721065671621, reg_alpha=0.0 will be ignored. Current value: lambda_l1=1.6042721065671621\n",
      "[LightGBM] [Warning] min_data_in_leaf is set=9, min_child_samples=20 will be ignored. Current value: min_data_in_leaf=9\n",
      "[LightGBM] [Warning] lambda_l2 is set=6.753227814837282, reg_lambda=0.0 will be ignored. Current value: lambda_l2=6.753227814837282\n",
      "[LightGBM] [Warning] lambda_l1 is set=1.6042721065671621, reg_alpha=0.0 will be ignored. Current value: lambda_l1=1.6042721065671621\n"
     ]
    },
    {
     "name": "stderr",
     "output_type": "stream",
     "text": [
      "\u001b[32m[I 2023-04-16 04:05:28,318]\u001b[0m Trial 6 finished with value: 1.7513512290098496 and parameters: {'colsample_bytree': 0.8552275286070412, 'colsample_bynode': 0.6637729679740559, 'max_depth': 4, 'learning_rate': 0.07787725184741012, 'lambda_l1': 1.6042721065671621, 'lambda_l2': 6.753227814837282, 'num_leaves': 801, 'min_data_in_leaf': 9}. Best is trial 0 with value: 1.743668328012426.\u001b[0m\n"
     ]
    },
    {
     "name": "stdout",
     "output_type": "stream",
     "text": [
      "Mean SMAPE: 1.7514\n",
      "[LightGBM] [Warning] min_data_in_leaf is set=9, min_child_samples=20 will be ignored. Current value: min_data_in_leaf=9\n",
      "[LightGBM] [Warning] lambda_l2 is set=3.3799910024679796, reg_lambda=0.0 will be ignored. Current value: lambda_l2=3.3799910024679796\n",
      "[LightGBM] [Warning] lambda_l1 is set=2.8947939146450734, reg_alpha=0.0 will be ignored. Current value: lambda_l1=2.8947939146450734\n",
      "[LightGBM] [Warning] min_data_in_leaf is set=9, min_child_samples=20 will be ignored. Current value: min_data_in_leaf=9\n",
      "[LightGBM] [Warning] lambda_l2 is set=3.3799910024679796, reg_lambda=0.0 will be ignored. Current value: lambda_l2=3.3799910024679796\n",
      "[LightGBM] [Warning] lambda_l1 is set=2.8947939146450734, reg_alpha=0.0 will be ignored. Current value: lambda_l1=2.8947939146450734\n",
      "[LightGBM] [Warning] min_data_in_leaf is set=9, min_child_samples=20 will be ignored. Current value: min_data_in_leaf=9\n",
      "[LightGBM] [Warning] lambda_l2 is set=3.3799910024679796, reg_lambda=0.0 will be ignored. Current value: lambda_l2=3.3799910024679796\n",
      "[LightGBM] [Warning] lambda_l1 is set=2.8947939146450734, reg_alpha=0.0 will be ignored. Current value: lambda_l1=2.8947939146450734\n",
      "[LightGBM] [Warning] min_data_in_leaf is set=9, min_child_samples=20 will be ignored. Current value: min_data_in_leaf=9\n",
      "[LightGBM] [Warning] lambda_l2 is set=3.3799910024679796, reg_lambda=0.0 will be ignored. Current value: lambda_l2=3.3799910024679796\n",
      "[LightGBM] [Warning] lambda_l1 is set=2.8947939146450734, reg_alpha=0.0 will be ignored. Current value: lambda_l1=2.8947939146450734\n",
      "[LightGBM] [Warning] min_data_in_leaf is set=9, min_child_samples=20 will be ignored. Current value: min_data_in_leaf=9\n",
      "[LightGBM] [Warning] lambda_l2 is set=3.3799910024679796, reg_lambda=0.0 will be ignored. Current value: lambda_l2=3.3799910024679796\n",
      "[LightGBM] [Warning] lambda_l1 is set=2.8947939146450734, reg_alpha=0.0 will be ignored. Current value: lambda_l1=2.8947939146450734\n"
     ]
    },
    {
     "name": "stderr",
     "output_type": "stream",
     "text": [
      "\u001b[32m[I 2023-04-16 04:05:38,370]\u001b[0m Trial 7 finished with value: 1.773574647209599 and parameters: {'colsample_bytree': 0.11036901920718034, 'colsample_bynode': 0.4977137163134838, 'max_depth': 6, 'learning_rate': 0.030730494551666432, 'lambda_l1': 2.8947939146450734, 'lambda_l2': 3.3799910024679796, 'num_leaves': 408, 'min_data_in_leaf': 9}. Best is trial 0 with value: 1.743668328012426.\u001b[0m\n"
     ]
    },
    {
     "name": "stdout",
     "output_type": "stream",
     "text": [
      "Mean SMAPE: 1.7736\n",
      "[LightGBM] [Warning] min_data_in_leaf is set=58, min_child_samples=20 will be ignored. Current value: min_data_in_leaf=58\n",
      "[LightGBM] [Warning] lambda_l2 is set=2.5396833135600487, reg_lambda=0.0 will be ignored. Current value: lambda_l2=2.5396833135600487\n",
      "[LightGBM] [Warning] lambda_l1 is set=5.989140113506917, reg_alpha=0.0 will be ignored. Current value: lambda_l1=5.989140113506917\n",
      "[LightGBM] [Warning] min_data_in_leaf is set=58, min_child_samples=20 will be ignored. Current value: min_data_in_leaf=58\n",
      "[LightGBM] [Warning] lambda_l2 is set=2.5396833135600487, reg_lambda=0.0 will be ignored. Current value: lambda_l2=2.5396833135600487\n",
      "[LightGBM] [Warning] lambda_l1 is set=5.989140113506917, reg_alpha=0.0 will be ignored. Current value: lambda_l1=5.989140113506917\n",
      "[LightGBM] [Warning] min_data_in_leaf is set=58, min_child_samples=20 will be ignored. Current value: min_data_in_leaf=58\n",
      "[LightGBM] [Warning] lambda_l2 is set=2.5396833135600487, reg_lambda=0.0 will be ignored. Current value: lambda_l2=2.5396833135600487\n",
      "[LightGBM] [Warning] lambda_l1 is set=5.989140113506917, reg_alpha=0.0 will be ignored. Current value: lambda_l1=5.989140113506917\n",
      "[LightGBM] [Warning] min_data_in_leaf is set=58, min_child_samples=20 will be ignored. Current value: min_data_in_leaf=58\n",
      "[LightGBM] [Warning] lambda_l2 is set=2.5396833135600487, reg_lambda=0.0 will be ignored. Current value: lambda_l2=2.5396833135600487\n",
      "[LightGBM] [Warning] lambda_l1 is set=5.989140113506917, reg_alpha=0.0 will be ignored. Current value: lambda_l1=5.989140113506917\n",
      "[LightGBM] [Warning] min_data_in_leaf is set=58, min_child_samples=20 will be ignored. Current value: min_data_in_leaf=58\n",
      "[LightGBM] [Warning] lambda_l2 is set=2.5396833135600487, reg_lambda=0.0 will be ignored. Current value: lambda_l2=2.5396833135600487\n",
      "[LightGBM] [Warning] lambda_l1 is set=5.989140113506917, reg_alpha=0.0 will be ignored. Current value: lambda_l1=5.989140113506917\n"
     ]
    },
    {
     "name": "stderr",
     "output_type": "stream",
     "text": [
      "\u001b[32m[I 2023-04-16 04:05:45,221]\u001b[0m Trial 8 finished with value: 1.7577607620193105 and parameters: {'colsample_bytree': 0.8984565314847984, 'colsample_bynode': 0.6847951130815854, 'max_depth': 3, 'learning_rate': 0.0840625467948917, 'lambda_l1': 5.989140113506917, 'lambda_l2': 2.5396833135600487, 'num_leaves': 142, 'min_data_in_leaf': 58}. Best is trial 0 with value: 1.743668328012426.\u001b[0m\n"
     ]
    },
    {
     "name": "stdout",
     "output_type": "stream",
     "text": [
      "Mean SMAPE: 1.7578\n",
      "[LightGBM] [Warning] min_data_in_leaf is set=119, min_child_samples=20 will be ignored. Current value: min_data_in_leaf=119\n",
      "[LightGBM] [Warning] lambda_l2 is set=6.286225889630309, reg_lambda=0.0 will be ignored. Current value: lambda_l2=6.286225889630309\n",
      "[LightGBM] [Warning] lambda_l1 is set=8.624962194085922, reg_alpha=0.0 will be ignored. Current value: lambda_l1=8.624962194085922\n",
      "[LightGBM] [Warning] min_data_in_leaf is set=119, min_child_samples=20 will be ignored. Current value: min_data_in_leaf=119\n",
      "[LightGBM] [Warning] lambda_l2 is set=6.286225889630309, reg_lambda=0.0 will be ignored. Current value: lambda_l2=6.286225889630309\n",
      "[LightGBM] [Warning] lambda_l1 is set=8.624962194085922, reg_alpha=0.0 will be ignored. Current value: lambda_l1=8.624962194085922\n",
      "[LightGBM] [Warning] min_data_in_leaf is set=119, min_child_samples=20 will be ignored. Current value: min_data_in_leaf=119\n",
      "[LightGBM] [Warning] lambda_l2 is set=6.286225889630309, reg_lambda=0.0 will be ignored. Current value: lambda_l2=6.286225889630309\n",
      "[LightGBM] [Warning] lambda_l1 is set=8.624962194085922, reg_alpha=0.0 will be ignored. Current value: lambda_l1=8.624962194085922\n",
      "[LightGBM] [Warning] min_data_in_leaf is set=119, min_child_samples=20 will be ignored. Current value: min_data_in_leaf=119\n",
      "[LightGBM] [Warning] lambda_l2 is set=6.286225889630309, reg_lambda=0.0 will be ignored. Current value: lambda_l2=6.286225889630309\n",
      "[LightGBM] [Warning] lambda_l1 is set=8.624962194085922, reg_alpha=0.0 will be ignored. Current value: lambda_l1=8.624962194085922\n",
      "[LightGBM] [Warning] min_data_in_leaf is set=119, min_child_samples=20 will be ignored. Current value: min_data_in_leaf=119\n",
      "[LightGBM] [Warning] lambda_l2 is set=6.286225889630309, reg_lambda=0.0 will be ignored. Current value: lambda_l2=6.286225889630309\n",
      "[LightGBM] [Warning] lambda_l1 is set=8.624962194085922, reg_alpha=0.0 will be ignored. Current value: lambda_l1=8.624962194085922\n"
     ]
    },
    {
     "name": "stderr",
     "output_type": "stream",
     "text": [
      "\u001b[32m[I 2023-04-16 04:06:09,738]\u001b[0m Trial 9 finished with value: 1.750823060232793 and parameters: {'colsample_bytree': 0.8916947974277349, 'colsample_bynode': 0.14686104810899425, 'max_depth': 9, 'learning_rate': 0.07861234636521508, 'lambda_l1': 8.624962194085922, 'lambda_l2': 6.286225889630309, 'num_leaves': 344, 'min_data_in_leaf': 119}. Best is trial 0 with value: 1.743668328012426.\u001b[0m\n"
     ]
    },
    {
     "name": "stdout",
     "output_type": "stream",
     "text": [
      "Mean SMAPE: 1.7508\n",
      "[LightGBM] [Warning] min_data_in_leaf is set=193, min_child_samples=20 will be ignored. Current value: min_data_in_leaf=193\n",
      "[LightGBM] [Warning] lambda_l2 is set=0.33159892685769776, reg_lambda=0.0 will be ignored. Current value: lambda_l2=0.33159892685769776\n",
      "[LightGBM] [Warning] lambda_l1 is set=0.03371173673889594, reg_alpha=0.0 will be ignored. Current value: lambda_l1=0.03371173673889594\n",
      "[LightGBM] [Warning] min_data_in_leaf is set=193, min_child_samples=20 will be ignored. Current value: min_data_in_leaf=193\n",
      "[LightGBM] [Warning] lambda_l2 is set=0.33159892685769776, reg_lambda=0.0 will be ignored. Current value: lambda_l2=0.33159892685769776\n",
      "[LightGBM] [Warning] lambda_l1 is set=0.03371173673889594, reg_alpha=0.0 will be ignored. Current value: lambda_l1=0.03371173673889594\n",
      "[LightGBM] [Warning] min_data_in_leaf is set=193, min_child_samples=20 will be ignored. Current value: min_data_in_leaf=193\n",
      "[LightGBM] [Warning] lambda_l2 is set=0.33159892685769776, reg_lambda=0.0 will be ignored. Current value: lambda_l2=0.33159892685769776\n",
      "[LightGBM] [Warning] lambda_l1 is set=0.03371173673889594, reg_alpha=0.0 will be ignored. Current value: lambda_l1=0.03371173673889594\n",
      "[LightGBM] [Warning] min_data_in_leaf is set=193, min_child_samples=20 will be ignored. Current value: min_data_in_leaf=193\n",
      "[LightGBM] [Warning] lambda_l2 is set=0.33159892685769776, reg_lambda=0.0 will be ignored. Current value: lambda_l2=0.33159892685769776\n",
      "[LightGBM] [Warning] lambda_l1 is set=0.03371173673889594, reg_alpha=0.0 will be ignored. Current value: lambda_l1=0.03371173673889594\n",
      "[LightGBM] [Warning] min_data_in_leaf is set=193, min_child_samples=20 will be ignored. Current value: min_data_in_leaf=193\n",
      "[LightGBM] [Warning] lambda_l2 is set=0.33159892685769776, reg_lambda=0.0 will be ignored. Current value: lambda_l2=0.33159892685769776\n",
      "[LightGBM] [Warning] lambda_l1 is set=0.03371173673889594, reg_alpha=0.0 will be ignored. Current value: lambda_l1=0.03371173673889594\n"
     ]
    },
    {
     "name": "stderr",
     "output_type": "stream",
     "text": [
      "\u001b[32m[I 2023-04-16 04:06:31,913]\u001b[0m Trial 10 finished with value: 1.750752922862907 and parameters: {'colsample_bytree': 0.9683700434897472, 'colsample_bynode': 0.9799530057000598, 'max_depth': 7, 'learning_rate': 0.010207934161279629, 'lambda_l1': 0.03371173673889594, 'lambda_l2': 0.33159892685769776, 'num_leaves': 636, 'min_data_in_leaf': 193}. Best is trial 0 with value: 1.743668328012426.\u001b[0m\n"
     ]
    },
    {
     "name": "stdout",
     "output_type": "stream",
     "text": [
      "Mean SMAPE: 1.7508\n",
      "[LightGBM] [Warning] min_data_in_leaf is set=184, min_child_samples=20 will be ignored. Current value: min_data_in_leaf=184\n",
      "[LightGBM] [Warning] lambda_l2 is set=9.97722440977874, reg_lambda=0.0 will be ignored. Current value: lambda_l2=9.97722440977874\n",
      "[LightGBM] [Warning] lambda_l1 is set=4.305074359702532, reg_alpha=0.0 will be ignored. Current value: lambda_l1=4.305074359702532\n",
      "[LightGBM] [Warning] min_data_in_leaf is set=184, min_child_samples=20 will be ignored. Current value: min_data_in_leaf=184\n",
      "[LightGBM] [Warning] lambda_l2 is set=9.97722440977874, reg_lambda=0.0 will be ignored. Current value: lambda_l2=9.97722440977874\n",
      "[LightGBM] [Warning] lambda_l1 is set=4.305074359702532, reg_alpha=0.0 will be ignored. Current value: lambda_l1=4.305074359702532\n",
      "[LightGBM] [Warning] min_data_in_leaf is set=184, min_child_samples=20 will be ignored. Current value: min_data_in_leaf=184\n",
      "[LightGBM] [Warning] lambda_l2 is set=9.97722440977874, reg_lambda=0.0 will be ignored. Current value: lambda_l2=9.97722440977874\n",
      "[LightGBM] [Warning] lambda_l1 is set=4.305074359702532, reg_alpha=0.0 will be ignored. Current value: lambda_l1=4.305074359702532\n",
      "[LightGBM] [Warning] min_data_in_leaf is set=184, min_child_samples=20 will be ignored. Current value: min_data_in_leaf=184\n",
      "[LightGBM] [Warning] lambda_l2 is set=9.97722440977874, reg_lambda=0.0 will be ignored. Current value: lambda_l2=9.97722440977874\n",
      "[LightGBM] [Warning] lambda_l1 is set=4.305074359702532, reg_alpha=0.0 will be ignored. Current value: lambda_l1=4.305074359702532\n",
      "[LightGBM] [Warning] min_data_in_leaf is set=184, min_child_samples=20 will be ignored. Current value: min_data_in_leaf=184\n",
      "[LightGBM] [Warning] lambda_l2 is set=9.97722440977874, reg_lambda=0.0 will be ignored. Current value: lambda_l2=9.97722440977874\n",
      "[LightGBM] [Warning] lambda_l1 is set=4.305074359702532, reg_alpha=0.0 will be ignored. Current value: lambda_l1=4.305074359702532\n"
     ]
    },
    {
     "name": "stderr",
     "output_type": "stream",
     "text": [
      "\u001b[32m[I 2023-04-16 04:06:53,854]\u001b[0m Trial 11 finished with value: 1.744158466432299 and parameters: {'colsample_bytree': 0.6652945019007349, 'colsample_bynode': 0.8415916271935976, 'max_depth': 8, 'learning_rate': 0.04720396037068302, 'lambda_l1': 4.305074359702532, 'lambda_l2': 9.97722440977874, 'num_leaves': 589, 'min_data_in_leaf': 184}. Best is trial 0 with value: 1.743668328012426.\u001b[0m\n"
     ]
    },
    {
     "name": "stdout",
     "output_type": "stream",
     "text": [
      "Mean SMAPE: 1.7442\n",
      "[LightGBM] [Warning] min_data_in_leaf is set=179, min_child_samples=20 will be ignored. Current value: min_data_in_leaf=179\n",
      "[LightGBM] [Warning] lambda_l2 is set=8.98718387361253, reg_lambda=0.0 will be ignored. Current value: lambda_l2=8.98718387361253\n",
      "[LightGBM] [Warning] lambda_l1 is set=3.567714107792349, reg_alpha=0.0 will be ignored. Current value: lambda_l1=3.567714107792349\n",
      "[LightGBM] [Warning] min_data_in_leaf is set=179, min_child_samples=20 will be ignored. Current value: min_data_in_leaf=179\n",
      "[LightGBM] [Warning] lambda_l2 is set=8.98718387361253, reg_lambda=0.0 will be ignored. Current value: lambda_l2=8.98718387361253\n",
      "[LightGBM] [Warning] lambda_l1 is set=3.567714107792349, reg_alpha=0.0 will be ignored. Current value: lambda_l1=3.567714107792349\n",
      "[LightGBM] [Warning] min_data_in_leaf is set=179, min_child_samples=20 will be ignored. Current value: min_data_in_leaf=179\n",
      "[LightGBM] [Warning] lambda_l2 is set=8.98718387361253, reg_lambda=0.0 will be ignored. Current value: lambda_l2=8.98718387361253\n",
      "[LightGBM] [Warning] lambda_l1 is set=3.567714107792349, reg_alpha=0.0 will be ignored. Current value: lambda_l1=3.567714107792349\n",
      "[LightGBM] [Warning] min_data_in_leaf is set=179, min_child_samples=20 will be ignored. Current value: min_data_in_leaf=179\n",
      "[LightGBM] [Warning] lambda_l2 is set=8.98718387361253, reg_lambda=0.0 will be ignored. Current value: lambda_l2=8.98718387361253\n",
      "[LightGBM] [Warning] lambda_l1 is set=3.567714107792349, reg_alpha=0.0 will be ignored. Current value: lambda_l1=3.567714107792349\n",
      "[LightGBM] [Warning] min_data_in_leaf is set=179, min_child_samples=20 will be ignored. Current value: min_data_in_leaf=179\n",
      "[LightGBM] [Warning] lambda_l2 is set=8.98718387361253, reg_lambda=0.0 will be ignored. Current value: lambda_l2=8.98718387361253\n",
      "[LightGBM] [Warning] lambda_l1 is set=3.567714107792349, reg_alpha=0.0 will be ignored. Current value: lambda_l1=3.567714107792349\n"
     ]
    },
    {
     "name": "stderr",
     "output_type": "stream",
     "text": [
      "\u001b[32m[I 2023-04-16 04:07:08,868]\u001b[0m Trial 12 finished with value: 1.7466983905369773 and parameters: {'colsample_bytree': 0.5230721527774299, 'colsample_bynode': 0.8731053367680398, 'max_depth': 6, 'learning_rate': 0.04402608218651887, 'lambda_l1': 3.567714107792349, 'lambda_l2': 8.98718387361253, 'num_leaves': 640, 'min_data_in_leaf': 179}. Best is trial 0 with value: 1.743668328012426.\u001b[0m\n"
     ]
    },
    {
     "name": "stdout",
     "output_type": "stream",
     "text": [
      "Mean SMAPE: 1.7467\n",
      "[LightGBM] [Warning] min_data_in_leaf is set=239, min_child_samples=20 will be ignored. Current value: min_data_in_leaf=239\n",
      "[LightGBM] [Warning] lambda_l2 is set=4.681677371994051, reg_lambda=0.0 will be ignored. Current value: lambda_l2=4.681677371994051\n",
      "[LightGBM] [Warning] lambda_l1 is set=4.841782539208692, reg_alpha=0.0 will be ignored. Current value: lambda_l1=4.841782539208692\n",
      "[LightGBM] [Warning] min_data_in_leaf is set=239, min_child_samples=20 will be ignored. Current value: min_data_in_leaf=239\n",
      "[LightGBM] [Warning] lambda_l2 is set=4.681677371994051, reg_lambda=0.0 will be ignored. Current value: lambda_l2=4.681677371994051\n",
      "[LightGBM] [Warning] lambda_l1 is set=4.841782539208692, reg_alpha=0.0 will be ignored. Current value: lambda_l1=4.841782539208692\n",
      "[LightGBM] [Warning] min_data_in_leaf is set=239, min_child_samples=20 will be ignored. Current value: min_data_in_leaf=239\n",
      "[LightGBM] [Warning] lambda_l2 is set=4.681677371994051, reg_lambda=0.0 will be ignored. Current value: lambda_l2=4.681677371994051\n",
      "[LightGBM] [Warning] lambda_l1 is set=4.841782539208692, reg_alpha=0.0 will be ignored. Current value: lambda_l1=4.841782539208692\n",
      "[LightGBM] [Warning] min_data_in_leaf is set=239, min_child_samples=20 will be ignored. Current value: min_data_in_leaf=239\n",
      "[LightGBM] [Warning] lambda_l2 is set=4.681677371994051, reg_lambda=0.0 will be ignored. Current value: lambda_l2=4.681677371994051\n",
      "[LightGBM] [Warning] lambda_l1 is set=4.841782539208692, reg_alpha=0.0 will be ignored. Current value: lambda_l1=4.841782539208692\n",
      "[LightGBM] [Warning] min_data_in_leaf is set=239, min_child_samples=20 will be ignored. Current value: min_data_in_leaf=239\n",
      "[LightGBM] [Warning] lambda_l2 is set=4.681677371994051, reg_lambda=0.0 will be ignored. Current value: lambda_l2=4.681677371994051\n",
      "[LightGBM] [Warning] lambda_l1 is set=4.841782539208692, reg_alpha=0.0 will be ignored. Current value: lambda_l1=4.841782539208692\n"
     ]
    },
    {
     "name": "stderr",
     "output_type": "stream",
     "text": [
      "\u001b[32m[I 2023-04-16 04:07:34,383]\u001b[0m Trial 13 finished with value: 1.745604896813941 and parameters: {'colsample_bytree': 0.9664908365641642, 'colsample_bynode': 0.8013114711302523, 'max_depth': 8, 'learning_rate': 0.02062226274575233, 'lambda_l1': 4.841782539208692, 'lambda_l2': 4.681677371994051, 'num_leaves': 627, 'min_data_in_leaf': 239}. Best is trial 0 with value: 1.743668328012426.\u001b[0m\n"
     ]
    },
    {
     "name": "stdout",
     "output_type": "stream",
     "text": [
      "Mean SMAPE: 1.7456\n",
      "[LightGBM] [Warning] min_data_in_leaf is set=163, min_child_samples=20 will be ignored. Current value: min_data_in_leaf=163\n",
      "[LightGBM] [Warning] lambda_l2 is set=8.025283785311483, reg_lambda=0.0 will be ignored. Current value: lambda_l2=8.025283785311483\n",
      "[LightGBM] [Warning] lambda_l1 is set=1.8804938166078893, reg_alpha=0.0 will be ignored. Current value: lambda_l1=1.8804938166078893\n",
      "[LightGBM] [Warning] min_data_in_leaf is set=163, min_child_samples=20 will be ignored. Current value: min_data_in_leaf=163\n",
      "[LightGBM] [Warning] lambda_l2 is set=8.025283785311483, reg_lambda=0.0 will be ignored. Current value: lambda_l2=8.025283785311483\n",
      "[LightGBM] [Warning] lambda_l1 is set=1.8804938166078893, reg_alpha=0.0 will be ignored. Current value: lambda_l1=1.8804938166078893\n",
      "[LightGBM] [Warning] min_data_in_leaf is set=163, min_child_samples=20 will be ignored. Current value: min_data_in_leaf=163\n",
      "[LightGBM] [Warning] lambda_l2 is set=8.025283785311483, reg_lambda=0.0 will be ignored. Current value: lambda_l2=8.025283785311483\n",
      "[LightGBM] [Warning] lambda_l1 is set=1.8804938166078893, reg_alpha=0.0 will be ignored. Current value: lambda_l1=1.8804938166078893\n",
      "[LightGBM] [Warning] min_data_in_leaf is set=163, min_child_samples=20 will be ignored. Current value: min_data_in_leaf=163\n",
      "[LightGBM] [Warning] lambda_l2 is set=8.025283785311483, reg_lambda=0.0 will be ignored. Current value: lambda_l2=8.025283785311483\n",
      "[LightGBM] [Warning] lambda_l1 is set=1.8804938166078893, reg_alpha=0.0 will be ignored. Current value: lambda_l1=1.8804938166078893\n",
      "[LightGBM] [Warning] min_data_in_leaf is set=163, min_child_samples=20 will be ignored. Current value: min_data_in_leaf=163\n",
      "[LightGBM] [Warning] lambda_l2 is set=8.025283785311483, reg_lambda=0.0 will be ignored. Current value: lambda_l2=8.025283785311483\n",
      "[LightGBM] [Warning] lambda_l1 is set=1.8804938166078893, reg_alpha=0.0 will be ignored. Current value: lambda_l1=1.8804938166078893\n"
     ]
    },
    {
     "name": "stderr",
     "output_type": "stream",
     "text": [
      "\u001b[32m[I 2023-04-16 04:07:50,354]\u001b[0m Trial 14 finished with value: 1.7483403773146755 and parameters: {'colsample_bytree': 0.728993975929298, 'colsample_bynode': 0.7881774462808858, 'max_depth': 8, 'learning_rate': 0.051794827865504434, 'lambda_l1': 1.8804938166078893, 'lambda_l2': 8.025283785311483, 'num_leaves': 17, 'min_data_in_leaf': 163}. Best is trial 0 with value: 1.743668328012426.\u001b[0m\n"
     ]
    },
    {
     "name": "stdout",
     "output_type": "stream",
     "text": [
      "Mean SMAPE: 1.7483\n",
      "[LightGBM] [Warning] min_data_in_leaf is set=228, min_child_samples=20 will be ignored. Current value: min_data_in_leaf=228\n",
      "[LightGBM] [Warning] lambda_l2 is set=9.918705971662554, reg_lambda=0.0 will be ignored. Current value: lambda_l2=9.918705971662554\n",
      "[LightGBM] [Warning] lambda_l1 is set=3.9176662710381085, reg_alpha=0.0 will be ignored. Current value: lambda_l1=3.9176662710381085\n",
      "[LightGBM] [Warning] min_data_in_leaf is set=228, min_child_samples=20 will be ignored. Current value: min_data_in_leaf=228\n",
      "[LightGBM] [Warning] lambda_l2 is set=9.918705971662554, reg_lambda=0.0 will be ignored. Current value: lambda_l2=9.918705971662554\n",
      "[LightGBM] [Warning] lambda_l1 is set=3.9176662710381085, reg_alpha=0.0 will be ignored. Current value: lambda_l1=3.9176662710381085\n",
      "[LightGBM] [Warning] min_data_in_leaf is set=228, min_child_samples=20 will be ignored. Current value: min_data_in_leaf=228\n",
      "[LightGBM] [Warning] lambda_l2 is set=9.918705971662554, reg_lambda=0.0 will be ignored. Current value: lambda_l2=9.918705971662554\n",
      "[LightGBM] [Warning] lambda_l1 is set=3.9176662710381085, reg_alpha=0.0 will be ignored. Current value: lambda_l1=3.9176662710381085\n",
      "[LightGBM] [Warning] min_data_in_leaf is set=228, min_child_samples=20 will be ignored. Current value: min_data_in_leaf=228\n",
      "[LightGBM] [Warning] lambda_l2 is set=9.918705971662554, reg_lambda=0.0 will be ignored. Current value: lambda_l2=9.918705971662554\n",
      "[LightGBM] [Warning] lambda_l1 is set=3.9176662710381085, reg_alpha=0.0 will be ignored. Current value: lambda_l1=3.9176662710381085\n",
      "[LightGBM] [Warning] min_data_in_leaf is set=228, min_child_samples=20 will be ignored. Current value: min_data_in_leaf=228\n",
      "[LightGBM] [Warning] lambda_l2 is set=9.918705971662554, reg_lambda=0.0 will be ignored. Current value: lambda_l2=9.918705971662554\n",
      "[LightGBM] [Warning] lambda_l1 is set=3.9176662710381085, reg_alpha=0.0 will be ignored. Current value: lambda_l1=3.9176662710381085\n"
     ]
    },
    {
     "name": "stderr",
     "output_type": "stream",
     "text": [
      "\u001b[32m[I 2023-04-16 04:08:47,813]\u001b[0m Trial 15 finished with value: 1.7448932613112849 and parameters: {'colsample_bytree': 0.6681411431229313, 'colsample_bynode': 0.9867350918149229, 'max_depth': 10, 'learning_rate': 0.025574304796259363, 'lambda_l1': 3.9176662710381085, 'lambda_l2': 9.918705971662554, 'num_leaves': 760, 'min_data_in_leaf': 228}. Best is trial 0 with value: 1.743668328012426.\u001b[0m\n"
     ]
    },
    {
     "name": "stdout",
     "output_type": "stream",
     "text": [
      "Mean SMAPE: 1.7449\n",
      "[LightGBM] [Warning] min_data_in_leaf is set=142, min_child_samples=20 will be ignored. Current value: min_data_in_leaf=142\n",
      "[LightGBM] [Warning] lambda_l2 is set=5.299486963627453, reg_lambda=0.0 will be ignored. Current value: lambda_l2=5.299486963627453\n",
      "[LightGBM] [Warning] lambda_l1 is set=9.703828730426089, reg_alpha=0.0 will be ignored. Current value: lambda_l1=9.703828730426089\n",
      "[LightGBM] [Warning] min_data_in_leaf is set=142, min_child_samples=20 will be ignored. Current value: min_data_in_leaf=142\n",
      "[LightGBM] [Warning] lambda_l2 is set=5.299486963627453, reg_lambda=0.0 will be ignored. Current value: lambda_l2=5.299486963627453\n",
      "[LightGBM] [Warning] lambda_l1 is set=9.703828730426089, reg_alpha=0.0 will be ignored. Current value: lambda_l1=9.703828730426089\n",
      "[LightGBM] [Warning] min_data_in_leaf is set=142, min_child_samples=20 will be ignored. Current value: min_data_in_leaf=142\n",
      "[LightGBM] [Warning] lambda_l2 is set=5.299486963627453, reg_lambda=0.0 will be ignored. Current value: lambda_l2=5.299486963627453\n",
      "[LightGBM] [Warning] lambda_l1 is set=9.703828730426089, reg_alpha=0.0 will be ignored. Current value: lambda_l1=9.703828730426089\n",
      "[LightGBM] [Warning] min_data_in_leaf is set=142, min_child_samples=20 will be ignored. Current value: min_data_in_leaf=142\n",
      "[LightGBM] [Warning] lambda_l2 is set=5.299486963627453, reg_lambda=0.0 will be ignored. Current value: lambda_l2=5.299486963627453\n",
      "[LightGBM] [Warning] lambda_l1 is set=9.703828730426089, reg_alpha=0.0 will be ignored. Current value: lambda_l1=9.703828730426089\n",
      "[LightGBM] [Warning] min_data_in_leaf is set=142, min_child_samples=20 will be ignored. Current value: min_data_in_leaf=142\n",
      "[LightGBM] [Warning] lambda_l2 is set=5.299486963627453, reg_lambda=0.0 will be ignored. Current value: lambda_l2=5.299486963627453\n",
      "[LightGBM] [Warning] lambda_l1 is set=9.703828730426089, reg_alpha=0.0 will be ignored. Current value: lambda_l1=9.703828730426089\n"
     ]
    },
    {
     "name": "stderr",
     "output_type": "stream",
     "text": [
      "\u001b[32m[I 2023-04-16 04:09:34,707]\u001b[0m Trial 16 finished with value: 1.755279492017774 and parameters: {'colsample_bytree': 0.5483119686324778, 'colsample_bynode': 0.6348714642927674, 'max_depth': 8, 'learning_rate': 0.015228890075960719, 'lambda_l1': 9.703828730426089, 'lambda_l2': 5.299486963627453, 'num_leaves': 504, 'min_data_in_leaf': 142}. Best is trial 0 with value: 1.743668328012426.\u001b[0m\n"
     ]
    },
    {
     "name": "stdout",
     "output_type": "stream",
     "text": [
      "Mean SMAPE: 1.7553\n",
      "[LightGBM] [Warning] min_data_in_leaf is set=209, min_child_samples=20 will be ignored. Current value: min_data_in_leaf=209\n",
      "[LightGBM] [Warning] lambda_l2 is set=8.214724832275662, reg_lambda=0.0 will be ignored. Current value: lambda_l2=8.214724832275662\n",
      "[LightGBM] [Warning] lambda_l1 is set=5.3676481834549525, reg_alpha=0.0 will be ignored. Current value: lambda_l1=5.3676481834549525\n",
      "[LightGBM] [Warning] min_data_in_leaf is set=209, min_child_samples=20 will be ignored. Current value: min_data_in_leaf=209\n",
      "[LightGBM] [Warning] lambda_l2 is set=8.214724832275662, reg_lambda=0.0 will be ignored. Current value: lambda_l2=8.214724832275662\n",
      "[LightGBM] [Warning] lambda_l1 is set=5.3676481834549525, reg_alpha=0.0 will be ignored. Current value: lambda_l1=5.3676481834549525\n",
      "[LightGBM] [Warning] min_data_in_leaf is set=209, min_child_samples=20 will be ignored. Current value: min_data_in_leaf=209\n",
      "[LightGBM] [Warning] lambda_l2 is set=8.214724832275662, reg_lambda=0.0 will be ignored. Current value: lambda_l2=8.214724832275662\n",
      "[LightGBM] [Warning] lambda_l1 is set=5.3676481834549525, reg_alpha=0.0 will be ignored. Current value: lambda_l1=5.3676481834549525\n",
      "[LightGBM] [Warning] min_data_in_leaf is set=209, min_child_samples=20 will be ignored. Current value: min_data_in_leaf=209\n",
      "[LightGBM] [Warning] lambda_l2 is set=8.214724832275662, reg_lambda=0.0 will be ignored. Current value: lambda_l2=8.214724832275662\n",
      "[LightGBM] [Warning] lambda_l1 is set=5.3676481834549525, reg_alpha=0.0 will be ignored. Current value: lambda_l1=5.3676481834549525\n",
      "[LightGBM] [Warning] min_data_in_leaf is set=209, min_child_samples=20 will be ignored. Current value: min_data_in_leaf=209\n",
      "[LightGBM] [Warning] lambda_l2 is set=8.214724832275662, reg_lambda=0.0 will be ignored. Current value: lambda_l2=8.214724832275662\n",
      "[LightGBM] [Warning] lambda_l1 is set=5.3676481834549525, reg_alpha=0.0 will be ignored. Current value: lambda_l1=5.3676481834549525\n"
     ]
    },
    {
     "name": "stderr",
     "output_type": "stream",
     "text": [
      "\u001b[32m[I 2023-04-16 04:10:09,632]\u001b[0m Trial 17 finished with value: 1.7464101400105463 and parameters: {'colsample_bytree': 0.7840298241217043, 'colsample_bynode': 0.8603925113970067, 'max_depth': 6, 'learning_rate': 0.03281113767563762, 'lambda_l1': 5.3676481834549525, 'lambda_l2': 8.214724832275662, 'num_leaves': 230, 'min_data_in_leaf': 209}. Best is trial 0 with value: 1.743668328012426.\u001b[0m\n"
     ]
    },
    {
     "name": "stdout",
     "output_type": "stream",
     "text": [
      "Mean SMAPE: 1.7464\n",
      "[LightGBM] [Warning] min_data_in_leaf is set=136, min_child_samples=20 will be ignored. Current value: min_data_in_leaf=136\n",
      "[LightGBM] [Warning] lambda_l2 is set=4.3448241800941165, reg_lambda=0.0 will be ignored. Current value: lambda_l2=4.3448241800941165\n",
      "[LightGBM] [Warning] lambda_l1 is set=0.6664869719924802, reg_alpha=0.0 will be ignored. Current value: lambda_l1=0.6664869719924802\n",
      "[LightGBM] [Warning] min_data_in_leaf is set=136, min_child_samples=20 will be ignored. Current value: min_data_in_leaf=136\n",
      "[LightGBM] [Warning] lambda_l2 is set=4.3448241800941165, reg_lambda=0.0 will be ignored. Current value: lambda_l2=4.3448241800941165\n",
      "[LightGBM] [Warning] lambda_l1 is set=0.6664869719924802, reg_alpha=0.0 will be ignored. Current value: lambda_l1=0.6664869719924802\n",
      "[LightGBM] [Warning] min_data_in_leaf is set=136, min_child_samples=20 will be ignored. Current value: min_data_in_leaf=136\n",
      "[LightGBM] [Warning] lambda_l2 is set=4.3448241800941165, reg_lambda=0.0 will be ignored. Current value: lambda_l2=4.3448241800941165\n",
      "[LightGBM] [Warning] lambda_l1 is set=0.6664869719924802, reg_alpha=0.0 will be ignored. Current value: lambda_l1=0.6664869719924802\n",
      "[LightGBM] [Warning] min_data_in_leaf is set=136, min_child_samples=20 will be ignored. Current value: min_data_in_leaf=136\n",
      "[LightGBM] [Warning] lambda_l2 is set=4.3448241800941165, reg_lambda=0.0 will be ignored. Current value: lambda_l2=4.3448241800941165\n",
      "[LightGBM] [Warning] lambda_l1 is set=0.6664869719924802, reg_alpha=0.0 will be ignored. Current value: lambda_l1=0.6664869719924802\n",
      "[LightGBM] [Warning] min_data_in_leaf is set=136, min_child_samples=20 will be ignored. Current value: min_data_in_leaf=136\n",
      "[LightGBM] [Warning] lambda_l2 is set=4.3448241800941165, reg_lambda=0.0 will be ignored. Current value: lambda_l2=4.3448241800941165\n",
      "[LightGBM] [Warning] lambda_l1 is set=0.6664869719924802, reg_alpha=0.0 will be ignored. Current value: lambda_l1=0.6664869719924802\n"
     ]
    },
    {
     "name": "stderr",
     "output_type": "stream",
     "text": [
      "\u001b[32m[I 2023-04-16 04:10:35,045]\u001b[0m Trial 18 finished with value: 1.7457025152486119 and parameters: {'colsample_bytree': 0.9630255761229617, 'colsample_bynode': 0.7318270917587809, 'max_depth': 5, 'learning_rate': 0.057252551852280856, 'lambda_l1': 0.6664869719924802, 'lambda_l2': 4.3448241800941165, 'num_leaves': 763, 'min_data_in_leaf': 136}. Best is trial 0 with value: 1.743668328012426.\u001b[0m\n"
     ]
    },
    {
     "name": "stdout",
     "output_type": "stream",
     "text": [
      "Mean SMAPE: 1.7457\n",
      "[LightGBM] [Warning] min_data_in_leaf is set=166, min_child_samples=20 will be ignored. Current value: min_data_in_leaf=166\n",
      "[LightGBM] [Warning] lambda_l2 is set=7.4992739745951456, reg_lambda=0.0 will be ignored. Current value: lambda_l2=7.4992739745951456\n",
      "[LightGBM] [Warning] lambda_l1 is set=2.7182194656122167, reg_alpha=0.0 will be ignored. Current value: lambda_l1=2.7182194656122167\n",
      "[LightGBM] [Warning] min_data_in_leaf is set=166, min_child_samples=20 will be ignored. Current value: min_data_in_leaf=166\n",
      "[LightGBM] [Warning] lambda_l2 is set=7.4992739745951456, reg_lambda=0.0 will be ignored. Current value: lambda_l2=7.4992739745951456\n",
      "[LightGBM] [Warning] lambda_l1 is set=2.7182194656122167, reg_alpha=0.0 will be ignored. Current value: lambda_l1=2.7182194656122167\n",
      "[LightGBM] [Warning] min_data_in_leaf is set=166, min_child_samples=20 will be ignored. Current value: min_data_in_leaf=166\n",
      "[LightGBM] [Warning] lambda_l2 is set=7.4992739745951456, reg_lambda=0.0 will be ignored. Current value: lambda_l2=7.4992739745951456\n",
      "[LightGBM] [Warning] lambda_l1 is set=2.7182194656122167, reg_alpha=0.0 will be ignored. Current value: lambda_l1=2.7182194656122167\n",
      "[LightGBM] [Warning] min_data_in_leaf is set=166, min_child_samples=20 will be ignored. Current value: min_data_in_leaf=166\n",
      "[LightGBM] [Warning] lambda_l2 is set=7.4992739745951456, reg_lambda=0.0 will be ignored. Current value: lambda_l2=7.4992739745951456\n",
      "[LightGBM] [Warning] lambda_l1 is set=2.7182194656122167, reg_alpha=0.0 will be ignored. Current value: lambda_l1=2.7182194656122167\n",
      "[LightGBM] [Warning] min_data_in_leaf is set=166, min_child_samples=20 will be ignored. Current value: min_data_in_leaf=166\n",
      "[LightGBM] [Warning] lambda_l2 is set=7.4992739745951456, reg_lambda=0.0 will be ignored. Current value: lambda_l2=7.4992739745951456\n",
      "[LightGBM] [Warning] lambda_l1 is set=2.7182194656122167, reg_alpha=0.0 will be ignored. Current value: lambda_l1=2.7182194656122167\n"
     ]
    },
    {
     "name": "stderr",
     "output_type": "stream",
     "text": [
      "\u001b[32m[I 2023-04-16 04:11:07,270]\u001b[0m Trial 19 finished with value: 1.743683551110469 and parameters: {'colsample_bytree': 0.9964136059729585, 'colsample_bynode': 0.5756934790502, 'max_depth': 7, 'learning_rate': 0.060227554758627434, 'lambda_l1': 2.7182194656122167, 'lambda_l2': 7.4992739745951456, 'num_leaves': 582, 'min_data_in_leaf': 166}. Best is trial 0 with value: 1.743668328012426.\u001b[0m\n"
     ]
    },
    {
     "name": "stdout",
     "output_type": "stream",
     "text": [
      "Mean SMAPE: 1.7437\n",
      "Best trial: 1.743668328012426 with parameters {'colsample_bytree': 0.9101158510912557, 'colsample_bynode': 0.7950496453512623, 'max_depth': 8, 'learning_rate': 0.01822180689543358, 'lambda_l1': 2.5162708518776586, 'lambda_l2': 2.9497479075951083, 'num_leaves': 445, 'min_data_in_leaf': 14}\n"
     ]
    }
   ],
   "source": [
    "import optuna\n",
    "import pandas as pd\n",
    "\n",
    "study = optuna.create_study(direction='minimize')\n",
    "study.optimize(lambda trial: lgbm_objective(trial, df_train, target_train), n_trials=20)\n",
    "\n",
    "# Print the best trial\n",
    "print(f\"Best trial: {study.best_trial.value} with parameters {study.best_trial.params}\")"
   ]
  },
  {
   "cell_type": "code",
   "execution_count": 32,
   "metadata": {},
   "outputs": [],
   "source": [
    "params = study.best_trial.params\n",
    "LGBM = lgb.LGBMRegressor(**params)"
   ]
  },
  {
   "cell_type": "code",
   "execution_count": 33,
   "metadata": {},
   "outputs": [
    {
     "name": "stdout",
     "output_type": "stream",
     "text": [
      "[LightGBM] [Warning] min_data_in_leaf is set=14, min_child_samples=20 will be ignored. Current value: min_data_in_leaf=14\n",
      "[LightGBM] [Warning] lambda_l1 is set=2.5162708518776586, reg_alpha=0.0 will be ignored. Current value: lambda_l1=2.5162708518776586\n",
      "[LightGBM] [Warning] lambda_l2 is set=2.9497479075951083, reg_lambda=0.0 will be ignored. Current value: lambda_l2=2.9497479075951083\n"
     ]
    }
   ],
   "source": [
    "LGBM.fit(df_train, target_train)\n",
    "y_pred = np.exp(LGBM.predict(df_test)) * df_test.microbusiness_density"
   ]
  },
  {
   "cell_type": "code",
   "execution_count": 34,
   "metadata": {},
   "outputs": [
    {
     "data": {
      "text/plain": [
       "array([3.35343867, 8.52822966, 1.19579881, ..., 3.90972377, 3.13056649,\n",
       "       1.80607769])"
      ]
     },
     "execution_count": 34,
     "metadata": {},
     "output_type": "execute_result"
    }
   ],
   "source": [
    "pred = y_pred.values\n",
    "pred"
   ]
  },
  {
   "cell_type": "code",
   "execution_count": 35,
   "metadata": {},
   "outputs": [
    {
     "name": "stdout",
     "output_type": "stream",
     "text": [
      "2.250033742275787\n"
     ]
    }
   ],
   "source": [
    "my_cfips = df_train['cfips'].unique()\n",
    "train = train[train.cfips.isin(my_cfips)]\n",
    "y_true = train[train.row_id.str.contains('2022-07-01')].microbusiness_density.values\n",
    "print(smape_loss(y_true, pred))"
   ]
  },
  {
   "cell_type": "code",
   "execution_count": 37,
   "metadata": {},
   "outputs": [],
   "source": [
    "target_val = train[train.row_id.str.contains('2022-07-01')][['row_id', 'microbusiness_density']]\n",
    "target_val.to_csv('target_val.csv')"
   ]
  },
  {
   "cell_type": "code",
   "execution_count": null,
   "metadata": {},
   "outputs": [],
   "source": [
    "# clip_err = True\n",
    "\n",
    "# if clip_err:\n",
    "#     df_record = y_pred.merge(y_base, on = 'row_id', how='inner')\n",
    "#     df_record = df_record.merge(y_true, on = 'row_id', how='inner')\n",
    "#     def smape_(y_true, y_pred):\n",
    "#         return 100  * np.sum(2 * np.abs(y_pred - y_true) / (np.abs(y_true) + np.abs(y_pred)))\n",
    "    \n",
    "#     base_err = df_record.apply(lambda x: smape_(x.y_true, x.y_base), axis=1)\n",
    "#     pred_err = df_record.apply(lambda x: smape_(x.y_true, x.microbusiness_density), axis=1)\n",
    "#     blacklist = base_err[(base_err + 1e-3) < pred_err].index\n",
    "#     y_pred.iloc[blacklist] = y_base.iloc[blacklist]\n",
    "#     avg_base_err = base_err.mean()\n",
    "#     avg_pred_err = pred_err.mean()\n",
    "#     print(avg_base_err, avg_pred_err)\n",
    "#     df_sub = pd.read_csv('sample_submission.csv')\n",
    "#     df_sub = df_sub.drop(columns='microbusiness_density')\n",
    "#     df_sub['cfips'] = df_sub.row_id.str.split('_', expand=True)[0]\n",
    "#     y_pred['cfips'] = y_pred.row_id.str.split('_', expand=True)[0]\n",
    "#     merged_df = df_sub.merge(y_pred, on='cfips', how='left', suffixes=('', '_drop'))\n",
    "#     merged_df = merged_df.loc[:,~merged_df.columns.str.endswith('_drop')]\n",
    "#     # merged_df = merged_df.drop(columns='cfips')\n",
    "# else:\n",
    "#     df_sub = pd.read_csv('sample_submission.csv')\n",
    "#     df_sub = df_sub.drop(columns='microbusiness_density')\n",
    "#     df_sub['cfips'] = df_sub.row_id.str.split('_', expand=True)[0]\n",
    "#     y_pred['cfips'] = y_pred.row_id.str.split('_', expand=True)[0]\n",
    "#     merged_df = df_sub.merge(y_pred, on='cfips', how='left', suffixes=('', '_drop'))\n",
    "#     merged_df = merged_df.loc[:,~merged_df.columns.str.endswith('_drop')]\n",
    "#     # merged_df = merged_df.drop(columns='cfips')"
   ]
  }
 ],
 "metadata": {
  "kernelspec": {
   "display_name": "Python 3 (ipykernel)",
   "language": "python",
   "name": "python3"
  },
  "language_info": {
   "codemirror_mode": {
    "name": "ipython",
    "version": 3
   },
   "file_extension": ".py",
   "mimetype": "text/x-python",
   "name": "python",
   "nbconvert_exporter": "python",
   "pygments_lexer": "ipython3",
   "version": "3.8.16"
  }
 },
 "nbformat": 4,
 "nbformat_minor": 2
}
