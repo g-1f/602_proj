{
 "cells": [
  {
   "cell_type": "code",
   "execution_count": 59,
   "metadata": {},
   "outputs": [],
   "source": [
    "from sklearn.model_selection import TimeSeriesSplit\n",
    "import numpy as np\n",
    "import lightgbm as lgb\n",
    "import pandas as pd\n",
    "\n",
    "train = pd.read_csv('train.csv')\n",
    "df_train = pd.read_csv('df_train.csv', index_col='row_id')\n",
    "df_test = pd.read_csv('df_test.csv', index_col='row_id')\n",
    "target_train = pd.read_csv('target_train.csv', index_col='row_id').squeeze()\n",
    "target_test = pd.read_csv('target_test.csv', index_col='row_id').squeeze()"
   ]
  },
  {
   "cell_type": "code",
   "execution_count": null,
   "metadata": {},
   "outputs": [],
   "source": [
    "def smape_loss(y_true, y_pred):\n",
    "    \"\"\"\n",
    "    Custom SMAPE loss function for LightGBM\n",
    "    \"\"\"\n",
    "    return np.mean(2 * np.abs(y_pred - y_true) / (np.abs(y_true) + np.abs(y_pred))) * 100\n",
    "\n",
    "def smape_cv(model, df_train, target_train):\n",
    "    tscv = TimeSeriesSplit(n_splits=5)\n",
    "    smape_list = []\n",
    "    for _, (train_index, test_index) in enumerate(tscv.split(df_train), start=1):\n",
    "        # Create training and validation datasets\n",
    "        X_train = df_train.iloc[train_index]\n",
    "        y_train = target_train.iloc[train_index]\n",
    "        X_valid = df_train.iloc[test_index]\n",
    "        y_valid = target_train.iloc[test_index]\n",
    "\n",
    "        # Train the model\n",
    "        model.fit(X_train, y_train, eval_set=[(X_valid, y_valid)], eval_metric='mape', verbose=False)\n",
    "\n",
    "        # Make predictions\n",
    "        y_pred = np.exp(model.predict(X_valid)) * X_valid['microbusiness_density']\n",
    "        y_valid = np.exp(y_valid) * X_valid['microbusiness_density']\n",
    "\n",
    "        # Calculate SMAPE score\n",
    "        smape = smape_loss(y_valid, y_pred)\n",
    "        smape_list.append(smape)\n",
    "    \n",
    "    print(f'Mean SMAPE: {np.mean(smape_list):.4f}')\n",
    "    return np.mean(smape_list)\n",
    "\n",
    "def lgbm_objective(trial, df_train, target_train):\n",
    "    \"\"\"\n",
    "    Objective function for LightGBM optimization without rolling window cross-validation.\n",
    "    \"\"\"\n",
    "    params = {\n",
    "        'n_estimators'      : 200,\n",
    "        'verbose'           : -1,\n",
    "        'objective'         : 'regression_l1',\n",
    "        'random_state'      : 42,\n",
    "        'extra_trees'       : True,\n",
    "        'colsample_bytree'  : trial.suggest_float('colsample_bytree', 0.1, 1.0),\n",
    "        'colsample_bynode'  : trial.suggest_float('colsample_bynode', 0.1, 1.0),\n",
    "        'max_depth'         : trial.suggest_int('max_depth', 3, 10),\n",
    "        'learning_rate'     : trial.suggest_float('learning_rate', 0.01, 0.1, log=True),\n",
    "        'lambda_l1'         : trial.suggest_float('lambda_l1', 1e-2, 10.0),\n",
    "        'lambda_l2'         : trial.suggest_float('lambda_l2', 1e-2, 10.0),\n",
    "        'num_leaves'        : trial.suggest_int('num_leaves', 8, 1024),\n",
    "        'min_data_in_leaf'  : trial.suggest_int('min_data_in_leaf', 5, 250),\n",
    "        'early_stopping_round': 50,}\n",
    "\n",
    "    model = lgb.LGBMRegressor(**params)\n",
    "    score = smape_cv(model, df_train, target_train)\n",
    "    return score"
   ]
  },
  {
   "cell_type": "code",
   "execution_count": 15,
   "metadata": {},
   "outputs": [
    {
     "name": "stderr",
     "output_type": "stream",
     "text": [
      "\u001b[32m[I 2023-04-14 21:10:14,202]\u001b[0m A new study created in memory with name: no-name-a1c265f8-a19c-4d54-bb6b-9315034f9c9d\u001b[0m\n",
      "/opt/homebrew/Caskroom/miniforge/base/envs/base_env/lib/python3.8/site-packages/lightgbm/sklearn.py:736: UserWarning: 'verbose' argument is deprecated and will be removed in a future release of LightGBM. Pass 'log_evaluation()' callback via 'callbacks' argument instead.\n",
      "  _log_warning(\"'verbose' argument is deprecated and will be removed in a future release of LightGBM. \"\n"
     ]
    },
    {
     "name": "stdout",
     "output_type": "stream",
     "text": [
      "[LightGBM] [Warning] min_data_in_leaf is set=248, min_child_samples=20 will be ignored. Current value: min_data_in_leaf=248\n",
      "[LightGBM] [Warning] lambda_l2 is set=5.026156487310038, reg_lambda=0.0 will be ignored. Current value: lambda_l2=5.026156487310038\n",
      "[LightGBM] [Warning] lambda_l1 is set=0.6018665058271135, reg_alpha=0.0 will be ignored. Current value: lambda_l1=0.6018665058271135\n",
      "[LightGBM] [Warning] min_data_in_leaf is set=248, min_child_samples=20 will be ignored. Current value: min_data_in_leaf=248\n",
      "[LightGBM] [Warning] lambda_l2 is set=5.026156487310038, reg_lambda=0.0 will be ignored. Current value: lambda_l2=5.026156487310038\n",
      "[LightGBM] [Warning] lambda_l1 is set=0.6018665058271135, reg_alpha=0.0 will be ignored. Current value: lambda_l1=0.6018665058271135\n",
      "[LightGBM] [Warning] min_data_in_leaf is set=248, min_child_samples=20 will be ignored. Current value: min_data_in_leaf=248\n",
      "[LightGBM] [Warning] lambda_l2 is set=5.026156487310038, reg_lambda=0.0 will be ignored. Current value: lambda_l2=5.026156487310038\n",
      "[LightGBM] [Warning] lambda_l1 is set=0.6018665058271135, reg_alpha=0.0 will be ignored. Current value: lambda_l1=0.6018665058271135\n",
      "[LightGBM] [Warning] min_data_in_leaf is set=248, min_child_samples=20 will be ignored. Current value: min_data_in_leaf=248\n",
      "[LightGBM] [Warning] lambda_l2 is set=5.026156487310038, reg_lambda=0.0 will be ignored. Current value: lambda_l2=5.026156487310038\n",
      "[LightGBM] [Warning] lambda_l1 is set=0.6018665058271135, reg_alpha=0.0 will be ignored. Current value: lambda_l1=0.6018665058271135\n"
     ]
    },
    {
     "name": "stderr",
     "output_type": "stream",
     "text": [
      "\u001b[32m[I 2023-04-14 21:10:23,761]\u001b[0m Trial 0 finished with value: 1.7542303345776638 and parameters: {'colsample_bytree': 0.6954366493504512, 'colsample_bynode': 0.888367794528408, 'max_depth': 5, 'learning_rate': 0.05557089796308, 'lambda_l1': 0.6018665058271135, 'lambda_l2': 5.026156487310038, 'num_leaves': 139, 'min_data_in_leaf': 248}. Best is trial 0 with value: 1.7542303345776638.\u001b[0m\n"
     ]
    },
    {
     "name": "stdout",
     "output_type": "stream",
     "text": [
      "Mean SMAPE: 1.7542\n",
      "[LightGBM] [Warning] min_data_in_leaf is set=102, min_child_samples=20 will be ignored. Current value: min_data_in_leaf=102\n",
      "[LightGBM] [Warning] lambda_l2 is set=9.995542437705659, reg_lambda=0.0 will be ignored. Current value: lambda_l2=9.995542437705659\n",
      "[LightGBM] [Warning] lambda_l1 is set=2.2653315282894138, reg_alpha=0.0 will be ignored. Current value: lambda_l1=2.2653315282894138\n",
      "[LightGBM] [Warning] min_data_in_leaf is set=102, min_child_samples=20 will be ignored. Current value: min_data_in_leaf=102\n",
      "[LightGBM] [Warning] lambda_l2 is set=9.995542437705659, reg_lambda=0.0 will be ignored. Current value: lambda_l2=9.995542437705659\n",
      "[LightGBM] [Warning] lambda_l1 is set=2.2653315282894138, reg_alpha=0.0 will be ignored. Current value: lambda_l1=2.2653315282894138\n",
      "[LightGBM] [Warning] min_data_in_leaf is set=102, min_child_samples=20 will be ignored. Current value: min_data_in_leaf=102\n",
      "[LightGBM] [Warning] lambda_l2 is set=9.995542437705659, reg_lambda=0.0 will be ignored. Current value: lambda_l2=9.995542437705659\n",
      "[LightGBM] [Warning] lambda_l1 is set=2.2653315282894138, reg_alpha=0.0 will be ignored. Current value: lambda_l1=2.2653315282894138\n",
      "[LightGBM] [Warning] min_data_in_leaf is set=102, min_child_samples=20 will be ignored. Current value: min_data_in_leaf=102\n",
      "[LightGBM] [Warning] lambda_l2 is set=9.995542437705659, reg_lambda=0.0 will be ignored. Current value: lambda_l2=9.995542437705659\n",
      "[LightGBM] [Warning] lambda_l1 is set=2.2653315282894138, reg_alpha=0.0 will be ignored. Current value: lambda_l1=2.2653315282894138\n",
      "[LightGBM] [Warning] min_data_in_leaf is set=102, min_child_samples=20 will be ignored. Current value: min_data_in_leaf=102\n",
      "[LightGBM] [Warning] lambda_l2 is set=9.995542437705659, reg_lambda=0.0 will be ignored. Current value: lambda_l2=9.995542437705659\n",
      "[LightGBM] [Warning] lambda_l1 is set=2.2653315282894138, reg_alpha=0.0 will be ignored. Current value: lambda_l1=2.2653315282894138\n"
     ]
    },
    {
     "name": "stderr",
     "output_type": "stream",
     "text": [
      "\u001b[32m[I 2023-04-14 21:10:31,604]\u001b[0m Trial 1 finished with value: 1.7753899123422638 and parameters: {'colsample_bytree': 0.6406399870245952, 'colsample_bynode': 0.8551289858335458, 'max_depth': 4, 'learning_rate': 0.010465074144003937, 'lambda_l1': 2.2653315282894138, 'lambda_l2': 9.995542437705659, 'num_leaves': 402, 'min_data_in_leaf': 102}. Best is trial 0 with value: 1.7542303345776638.\u001b[0m\n"
     ]
    },
    {
     "name": "stdout",
     "output_type": "stream",
     "text": [
      "Mean SMAPE: 1.7754\n",
      "[LightGBM] [Warning] min_data_in_leaf is set=214, min_child_samples=20 will be ignored. Current value: min_data_in_leaf=214\n",
      "[LightGBM] [Warning] lambda_l2 is set=8.181170607113343, reg_lambda=0.0 will be ignored. Current value: lambda_l2=8.181170607113343\n",
      "[LightGBM] [Warning] lambda_l1 is set=2.6479298867089063, reg_alpha=0.0 will be ignored. Current value: lambda_l1=2.6479298867089063\n",
      "[LightGBM] [Warning] min_data_in_leaf is set=214, min_child_samples=20 will be ignored. Current value: min_data_in_leaf=214\n",
      "[LightGBM] [Warning] lambda_l2 is set=8.181170607113343, reg_lambda=0.0 will be ignored. Current value: lambda_l2=8.181170607113343\n",
      "[LightGBM] [Warning] lambda_l1 is set=2.6479298867089063, reg_alpha=0.0 will be ignored. Current value: lambda_l1=2.6479298867089063\n",
      "[LightGBM] [Warning] min_data_in_leaf is set=214, min_child_samples=20 will be ignored. Current value: min_data_in_leaf=214\n",
      "[LightGBM] [Warning] lambda_l2 is set=8.181170607113343, reg_lambda=0.0 will be ignored. Current value: lambda_l2=8.181170607113343\n",
      "[LightGBM] [Warning] lambda_l1 is set=2.6479298867089063, reg_alpha=0.0 will be ignored. Current value: lambda_l1=2.6479298867089063\n",
      "[LightGBM] [Warning] min_data_in_leaf is set=214, min_child_samples=20 will be ignored. Current value: min_data_in_leaf=214\n",
      "[LightGBM] [Warning] lambda_l2 is set=8.181170607113343, reg_lambda=0.0 will be ignored. Current value: lambda_l2=8.181170607113343\n",
      "[LightGBM] [Warning] lambda_l1 is set=2.6479298867089063, reg_alpha=0.0 will be ignored. Current value: lambda_l1=2.6479298867089063\n",
      "[LightGBM] [Warning] min_data_in_leaf is set=214, min_child_samples=20 will be ignored. Current value: min_data_in_leaf=214\n",
      "[LightGBM] [Warning] lambda_l2 is set=8.181170607113343, reg_lambda=0.0 will be ignored. Current value: lambda_l2=8.181170607113343\n",
      "[LightGBM] [Warning] lambda_l1 is set=2.6479298867089063, reg_alpha=0.0 will be ignored. Current value: lambda_l1=2.6479298867089063\n"
     ]
    },
    {
     "name": "stderr",
     "output_type": "stream",
     "text": [
      "\u001b[32m[I 2023-04-14 21:10:40,269]\u001b[0m Trial 2 finished with value: 1.7788806497870582 and parameters: {'colsample_bytree': 0.11592893439415639, 'colsample_bynode': 0.4984914896736866, 'max_depth': 9, 'learning_rate': 0.05342106248210964, 'lambda_l1': 2.6479298867089063, 'lambda_l2': 8.181170607113343, 'num_leaves': 713, 'min_data_in_leaf': 214}. Best is trial 0 with value: 1.7542303345776638.\u001b[0m\n"
     ]
    },
    {
     "name": "stdout",
     "output_type": "stream",
     "text": [
      "Mean SMAPE: 1.7789\n",
      "[LightGBM] [Warning] min_data_in_leaf is set=61, min_child_samples=20 will be ignored. Current value: min_data_in_leaf=61\n",
      "[LightGBM] [Warning] lambda_l2 is set=1.3930755348355035, reg_lambda=0.0 will be ignored. Current value: lambda_l2=1.3930755348355035\n",
      "[LightGBM] [Warning] lambda_l1 is set=9.86497858014404, reg_alpha=0.0 will be ignored. Current value: lambda_l1=9.86497858014404\n",
      "[LightGBM] [Warning] min_data_in_leaf is set=61, min_child_samples=20 will be ignored. Current value: min_data_in_leaf=61\n",
      "[LightGBM] [Warning] lambda_l2 is set=1.3930755348355035, reg_lambda=0.0 will be ignored. Current value: lambda_l2=1.3930755348355035\n",
      "[LightGBM] [Warning] lambda_l1 is set=9.86497858014404, reg_alpha=0.0 will be ignored. Current value: lambda_l1=9.86497858014404\n",
      "[LightGBM] [Warning] min_data_in_leaf is set=61, min_child_samples=20 will be ignored. Current value: min_data_in_leaf=61\n",
      "[LightGBM] [Warning] lambda_l2 is set=1.3930755348355035, reg_lambda=0.0 will be ignored. Current value: lambda_l2=1.3930755348355035\n",
      "[LightGBM] [Warning] lambda_l1 is set=9.86497858014404, reg_alpha=0.0 will be ignored. Current value: lambda_l1=9.86497858014404\n",
      "[LightGBM] [Warning] min_data_in_leaf is set=61, min_child_samples=20 will be ignored. Current value: min_data_in_leaf=61\n",
      "[LightGBM] [Warning] lambda_l2 is set=1.3930755348355035, reg_lambda=0.0 will be ignored. Current value: lambda_l2=1.3930755348355035\n",
      "[LightGBM] [Warning] lambda_l1 is set=9.86497858014404, reg_alpha=0.0 will be ignored. Current value: lambda_l1=9.86497858014404\n",
      "[LightGBM] [Warning] min_data_in_leaf is set=61, min_child_samples=20 will be ignored. Current value: min_data_in_leaf=61\n",
      "[LightGBM] [Warning] lambda_l2 is set=1.3930755348355035, reg_lambda=0.0 will be ignored. Current value: lambda_l2=1.3930755348355035\n",
      "[LightGBM] [Warning] lambda_l1 is set=9.86497858014404, reg_alpha=0.0 will be ignored. Current value: lambda_l1=9.86497858014404\n"
     ]
    },
    {
     "name": "stderr",
     "output_type": "stream",
     "text": [
      "\u001b[32m[I 2023-04-14 21:10:45,099]\u001b[0m Trial 3 finished with value: 1.796864832532448 and parameters: {'colsample_bytree': 0.24036751297728018, 'colsample_bynode': 0.10926868162637751, 'max_depth': 3, 'learning_rate': 0.0605160518523824, 'lambda_l1': 9.86497858014404, 'lambda_l2': 1.3930755348355035, 'num_leaves': 17, 'min_data_in_leaf': 61}. Best is trial 0 with value: 1.7542303345776638.\u001b[0m\n"
     ]
    },
    {
     "name": "stdout",
     "output_type": "stream",
     "text": [
      "Mean SMAPE: 1.7969\n",
      "[LightGBM] [Warning] min_data_in_leaf is set=207, min_child_samples=20 will be ignored. Current value: min_data_in_leaf=207\n",
      "[LightGBM] [Warning] lambda_l2 is set=0.457718928404495, reg_lambda=0.0 will be ignored. Current value: lambda_l2=0.457718928404495\n",
      "[LightGBM] [Warning] lambda_l1 is set=9.60049294528308, reg_alpha=0.0 will be ignored. Current value: lambda_l1=9.60049294528308\n",
      "[LightGBM] [Warning] min_data_in_leaf is set=207, min_child_samples=20 will be ignored. Current value: min_data_in_leaf=207\n",
      "[LightGBM] [Warning] lambda_l2 is set=0.457718928404495, reg_lambda=0.0 will be ignored. Current value: lambda_l2=0.457718928404495\n",
      "[LightGBM] [Warning] lambda_l1 is set=9.60049294528308, reg_alpha=0.0 will be ignored. Current value: lambda_l1=9.60049294528308\n",
      "[LightGBM] [Warning] min_data_in_leaf is set=207, min_child_samples=20 will be ignored. Current value: min_data_in_leaf=207\n",
      "[LightGBM] [Warning] lambda_l2 is set=0.457718928404495, reg_lambda=0.0 will be ignored. Current value: lambda_l2=0.457718928404495\n",
      "[LightGBM] [Warning] lambda_l1 is set=9.60049294528308, reg_alpha=0.0 will be ignored. Current value: lambda_l1=9.60049294528308\n",
      "[LightGBM] [Warning] min_data_in_leaf is set=207, min_child_samples=20 will be ignored. Current value: min_data_in_leaf=207\n",
      "[LightGBM] [Warning] lambda_l2 is set=0.457718928404495, reg_lambda=0.0 will be ignored. Current value: lambda_l2=0.457718928404495\n",
      "[LightGBM] [Warning] lambda_l1 is set=9.60049294528308, reg_alpha=0.0 will be ignored. Current value: lambda_l1=9.60049294528308\n",
      "[LightGBM] [Warning] min_data_in_leaf is set=207, min_child_samples=20 will be ignored. Current value: min_data_in_leaf=207\n",
      "[LightGBM] [Warning] lambda_l2 is set=0.457718928404495, reg_lambda=0.0 will be ignored. Current value: lambda_l2=0.457718928404495\n",
      "[LightGBM] [Warning] lambda_l1 is set=9.60049294528308, reg_alpha=0.0 will be ignored. Current value: lambda_l1=9.60049294528308\n"
     ]
    },
    {
     "name": "stderr",
     "output_type": "stream",
     "text": [
      "\u001b[32m[I 2023-04-14 21:10:52,181]\u001b[0m Trial 4 finished with value: 1.7581176505388072 and parameters: {'colsample_bytree': 0.6730038444881149, 'colsample_bynode': 0.8244038005691205, 'max_depth': 4, 'learning_rate': 0.052806867963640265, 'lambda_l1': 9.60049294528308, 'lambda_l2': 0.457718928404495, 'num_leaves': 425, 'min_data_in_leaf': 207}. Best is trial 0 with value: 1.7542303345776638.\u001b[0m\n"
     ]
    },
    {
     "name": "stdout",
     "output_type": "stream",
     "text": [
      "Mean SMAPE: 1.7581\n",
      "[LightGBM] [Warning] min_data_in_leaf is set=158, min_child_samples=20 will be ignored. Current value: min_data_in_leaf=158\n",
      "[LightGBM] [Warning] lambda_l2 is set=1.4575759658560499, reg_lambda=0.0 will be ignored. Current value: lambda_l2=1.4575759658560499\n",
      "[LightGBM] [Warning] lambda_l1 is set=2.671539223682533, reg_alpha=0.0 will be ignored. Current value: lambda_l1=2.671539223682533\n",
      "[LightGBM] [Warning] min_data_in_leaf is set=158, min_child_samples=20 will be ignored. Current value: min_data_in_leaf=158\n",
      "[LightGBM] [Warning] lambda_l2 is set=1.4575759658560499, reg_lambda=0.0 will be ignored. Current value: lambda_l2=1.4575759658560499\n",
      "[LightGBM] [Warning] lambda_l1 is set=2.671539223682533, reg_alpha=0.0 will be ignored. Current value: lambda_l1=2.671539223682533\n",
      "[LightGBM] [Warning] min_data_in_leaf is set=158, min_child_samples=20 will be ignored. Current value: min_data_in_leaf=158\n",
      "[LightGBM] [Warning] lambda_l2 is set=1.4575759658560499, reg_lambda=0.0 will be ignored. Current value: lambda_l2=1.4575759658560499\n",
      "[LightGBM] [Warning] lambda_l1 is set=2.671539223682533, reg_alpha=0.0 will be ignored. Current value: lambda_l1=2.671539223682533\n",
      "[LightGBM] [Warning] min_data_in_leaf is set=158, min_child_samples=20 will be ignored. Current value: min_data_in_leaf=158\n",
      "[LightGBM] [Warning] lambda_l2 is set=1.4575759658560499, reg_lambda=0.0 will be ignored. Current value: lambda_l2=1.4575759658560499\n",
      "[LightGBM] [Warning] lambda_l1 is set=2.671539223682533, reg_alpha=0.0 will be ignored. Current value: lambda_l1=2.671539223682533\n",
      "[LightGBM] [Warning] min_data_in_leaf is set=158, min_child_samples=20 will be ignored. Current value: min_data_in_leaf=158\n",
      "[LightGBM] [Warning] lambda_l2 is set=1.4575759658560499, reg_lambda=0.0 will be ignored. Current value: lambda_l2=1.4575759658560499\n",
      "[LightGBM] [Warning] lambda_l1 is set=2.671539223682533, reg_alpha=0.0 will be ignored. Current value: lambda_l1=2.671539223682533\n"
     ]
    },
    {
     "name": "stderr",
     "output_type": "stream",
     "text": [
      "\u001b[32m[I 2023-04-14 21:11:13,759]\u001b[0m Trial 5 finished with value: 1.7564238622396762 and parameters: {'colsample_bytree': 0.6444311594139467, 'colsample_bynode': 0.4598655888918951, 'max_depth': 9, 'learning_rate': 0.02397154994118437, 'lambda_l1': 2.671539223682533, 'lambda_l2': 1.4575759658560499, 'num_leaves': 535, 'min_data_in_leaf': 158}. Best is trial 0 with value: 1.7542303345776638.\u001b[0m\n"
     ]
    },
    {
     "name": "stdout",
     "output_type": "stream",
     "text": [
      "Mean SMAPE: 1.7564\n",
      "[LightGBM] [Warning] min_data_in_leaf is set=145, min_child_samples=20 will be ignored. Current value: min_data_in_leaf=145\n",
      "[LightGBM] [Warning] lambda_l2 is set=9.430279746575115, reg_lambda=0.0 will be ignored. Current value: lambda_l2=9.430279746575115\n",
      "[LightGBM] [Warning] lambda_l1 is set=4.042821233917824, reg_alpha=0.0 will be ignored. Current value: lambda_l1=4.042821233917824\n",
      "[LightGBM] [Warning] min_data_in_leaf is set=145, min_child_samples=20 will be ignored. Current value: min_data_in_leaf=145\n",
      "[LightGBM] [Warning] lambda_l2 is set=9.430279746575115, reg_lambda=0.0 will be ignored. Current value: lambda_l2=9.430279746575115\n",
      "[LightGBM] [Warning] lambda_l1 is set=4.042821233917824, reg_alpha=0.0 will be ignored. Current value: lambda_l1=4.042821233917824\n",
      "[LightGBM] [Warning] min_data_in_leaf is set=145, min_child_samples=20 will be ignored. Current value: min_data_in_leaf=145\n",
      "[LightGBM] [Warning] lambda_l2 is set=9.430279746575115, reg_lambda=0.0 will be ignored. Current value: lambda_l2=9.430279746575115\n",
      "[LightGBM] [Warning] lambda_l1 is set=4.042821233917824, reg_alpha=0.0 will be ignored. Current value: lambda_l1=4.042821233917824\n",
      "[LightGBM] [Warning] min_data_in_leaf is set=145, min_child_samples=20 will be ignored. Current value: min_data_in_leaf=145\n",
      "[LightGBM] [Warning] lambda_l2 is set=9.430279746575115, reg_lambda=0.0 will be ignored. Current value: lambda_l2=9.430279746575115\n",
      "[LightGBM] [Warning] lambda_l1 is set=4.042821233917824, reg_alpha=0.0 will be ignored. Current value: lambda_l1=4.042821233917824\n",
      "[LightGBM] [Warning] min_data_in_leaf is set=145, min_child_samples=20 will be ignored. Current value: min_data_in_leaf=145\n",
      "[LightGBM] [Warning] lambda_l2 is set=9.430279746575115, reg_lambda=0.0 will be ignored. Current value: lambda_l2=9.430279746575115\n",
      "[LightGBM] [Warning] lambda_l1 is set=4.042821233917824, reg_alpha=0.0 will be ignored. Current value: lambda_l1=4.042821233917824\n"
     ]
    },
    {
     "name": "stderr",
     "output_type": "stream",
     "text": [
      "\u001b[32m[I 2023-04-14 21:11:28,194]\u001b[0m Trial 6 finished with value: 1.7555572733122975 and parameters: {'colsample_bytree': 0.3007155705420981, 'colsample_bynode': 0.8540005315375161, 'max_depth': 9, 'learning_rate': 0.061507206678068575, 'lambda_l1': 4.042821233917824, 'lambda_l2': 9.430279746575115, 'num_leaves': 233, 'min_data_in_leaf': 145}. Best is trial 0 with value: 1.7542303345776638.\u001b[0m\n"
     ]
    },
    {
     "name": "stdout",
     "output_type": "stream",
     "text": [
      "Mean SMAPE: 1.7556\n",
      "[LightGBM] [Warning] min_data_in_leaf is set=144, min_child_samples=20 will be ignored. Current value: min_data_in_leaf=144\n",
      "[LightGBM] [Warning] lambda_l2 is set=6.615306938153532, reg_lambda=0.0 will be ignored. Current value: lambda_l2=6.615306938153532\n",
      "[LightGBM] [Warning] lambda_l1 is set=4.049836517381972, reg_alpha=0.0 will be ignored. Current value: lambda_l1=4.049836517381972\n",
      "[LightGBM] [Warning] min_data_in_leaf is set=144, min_child_samples=20 will be ignored. Current value: min_data_in_leaf=144\n",
      "[LightGBM] [Warning] lambda_l2 is set=6.615306938153532, reg_lambda=0.0 will be ignored. Current value: lambda_l2=6.615306938153532\n",
      "[LightGBM] [Warning] lambda_l1 is set=4.049836517381972, reg_alpha=0.0 will be ignored. Current value: lambda_l1=4.049836517381972\n",
      "[LightGBM] [Warning] min_data_in_leaf is set=144, min_child_samples=20 will be ignored. Current value: min_data_in_leaf=144\n",
      "[LightGBM] [Warning] lambda_l2 is set=6.615306938153532, reg_lambda=0.0 will be ignored. Current value: lambda_l2=6.615306938153532\n",
      "[LightGBM] [Warning] lambda_l1 is set=4.049836517381972, reg_alpha=0.0 will be ignored. Current value: lambda_l1=4.049836517381972\n",
      "[LightGBM] [Warning] min_data_in_leaf is set=144, min_child_samples=20 will be ignored. Current value: min_data_in_leaf=144\n",
      "[LightGBM] [Warning] lambda_l2 is set=6.615306938153532, reg_lambda=0.0 will be ignored. Current value: lambda_l2=6.615306938153532\n",
      "[LightGBM] [Warning] lambda_l1 is set=4.049836517381972, reg_alpha=0.0 will be ignored. Current value: lambda_l1=4.049836517381972\n",
      "[LightGBM] [Warning] min_data_in_leaf is set=144, min_child_samples=20 will be ignored. Current value: min_data_in_leaf=144\n",
      "[LightGBM] [Warning] lambda_l2 is set=6.615306938153532, reg_lambda=0.0 will be ignored. Current value: lambda_l2=6.615306938153532\n",
      "[LightGBM] [Warning] lambda_l1 is set=4.049836517381972, reg_alpha=0.0 will be ignored. Current value: lambda_l1=4.049836517381972\n"
     ]
    },
    {
     "name": "stderr",
     "output_type": "stream",
     "text": [
      "\u001b[32m[I 2023-04-14 21:11:37,518]\u001b[0m Trial 7 finished with value: 1.781446722730513 and parameters: {'colsample_bytree': 0.5764038441164506, 'colsample_bynode': 0.11604321307444028, 'max_depth': 5, 'learning_rate': 0.02527785695962093, 'lambda_l1': 4.049836517381972, 'lambda_l2': 6.615306938153532, 'num_leaves': 582, 'min_data_in_leaf': 144}. Best is trial 0 with value: 1.7542303345776638.\u001b[0m\n"
     ]
    },
    {
     "name": "stdout",
     "output_type": "stream",
     "text": [
      "Mean SMAPE: 1.7814\n",
      "[LightGBM] [Warning] min_data_in_leaf is set=148, min_child_samples=20 will be ignored. Current value: min_data_in_leaf=148\n",
      "[LightGBM] [Warning] lambda_l2 is set=9.156959873395612, reg_lambda=0.0 will be ignored. Current value: lambda_l2=9.156959873395612\n",
      "[LightGBM] [Warning] lambda_l1 is set=5.484070009727365, reg_alpha=0.0 will be ignored. Current value: lambda_l1=5.484070009727365\n",
      "[LightGBM] [Warning] min_data_in_leaf is set=148, min_child_samples=20 will be ignored. Current value: min_data_in_leaf=148\n",
      "[LightGBM] [Warning] lambda_l2 is set=9.156959873395612, reg_lambda=0.0 will be ignored. Current value: lambda_l2=9.156959873395612\n",
      "[LightGBM] [Warning] lambda_l1 is set=5.484070009727365, reg_alpha=0.0 will be ignored. Current value: lambda_l1=5.484070009727365\n",
      "[LightGBM] [Warning] min_data_in_leaf is set=148, min_child_samples=20 will be ignored. Current value: min_data_in_leaf=148\n",
      "[LightGBM] [Warning] lambda_l2 is set=9.156959873395612, reg_lambda=0.0 will be ignored. Current value: lambda_l2=9.156959873395612\n",
      "[LightGBM] [Warning] lambda_l1 is set=5.484070009727365, reg_alpha=0.0 will be ignored. Current value: lambda_l1=5.484070009727365\n",
      "[LightGBM] [Warning] min_data_in_leaf is set=148, min_child_samples=20 will be ignored. Current value: min_data_in_leaf=148\n",
      "[LightGBM] [Warning] lambda_l2 is set=9.156959873395612, reg_lambda=0.0 will be ignored. Current value: lambda_l2=9.156959873395612\n",
      "[LightGBM] [Warning] lambda_l1 is set=5.484070009727365, reg_alpha=0.0 will be ignored. Current value: lambda_l1=5.484070009727365\n",
      "[LightGBM] [Warning] min_data_in_leaf is set=148, min_child_samples=20 will be ignored. Current value: min_data_in_leaf=148\n",
      "[LightGBM] [Warning] lambda_l2 is set=9.156959873395612, reg_lambda=0.0 will be ignored. Current value: lambda_l2=9.156959873395612\n",
      "[LightGBM] [Warning] lambda_l1 is set=5.484070009727365, reg_alpha=0.0 will be ignored. Current value: lambda_l1=5.484070009727365\n"
     ]
    },
    {
     "name": "stderr",
     "output_type": "stream",
     "text": [
      "\u001b[32m[I 2023-04-14 21:11:49,982]\u001b[0m Trial 8 finished with value: 1.7661400765657251 and parameters: {'colsample_bytree': 0.29292239495357575, 'colsample_bynode': 0.3829897103405372, 'max_depth': 9, 'learning_rate': 0.03720958011459214, 'lambda_l1': 5.484070009727365, 'lambda_l2': 9.156959873395612, 'num_leaves': 295, 'min_data_in_leaf': 148}. Best is trial 0 with value: 1.7542303345776638.\u001b[0m\n"
     ]
    },
    {
     "name": "stdout",
     "output_type": "stream",
     "text": [
      "Mean SMAPE: 1.7661\n",
      "[LightGBM] [Warning] min_data_in_leaf is set=100, min_child_samples=20 will be ignored. Current value: min_data_in_leaf=100\n",
      "[LightGBM] [Warning] lambda_l2 is set=6.956863473783457, reg_lambda=0.0 will be ignored. Current value: lambda_l2=6.956863473783457\n",
      "[LightGBM] [Warning] lambda_l1 is set=0.10934767408981935, reg_alpha=0.0 will be ignored. Current value: lambda_l1=0.10934767408981935\n",
      "[LightGBM] [Warning] min_data_in_leaf is set=100, min_child_samples=20 will be ignored. Current value: min_data_in_leaf=100\n",
      "[LightGBM] [Warning] lambda_l2 is set=6.956863473783457, reg_lambda=0.0 will be ignored. Current value: lambda_l2=6.956863473783457\n",
      "[LightGBM] [Warning] lambda_l1 is set=0.10934767408981935, reg_alpha=0.0 will be ignored. Current value: lambda_l1=0.10934767408981935\n",
      "[LightGBM] [Warning] min_data_in_leaf is set=100, min_child_samples=20 will be ignored. Current value: min_data_in_leaf=100\n",
      "[LightGBM] [Warning] lambda_l2 is set=6.956863473783457, reg_lambda=0.0 will be ignored. Current value: lambda_l2=6.956863473783457\n",
      "[LightGBM] [Warning] lambda_l1 is set=0.10934767408981935, reg_alpha=0.0 will be ignored. Current value: lambda_l1=0.10934767408981935\n",
      "[LightGBM] [Warning] min_data_in_leaf is set=100, min_child_samples=20 will be ignored. Current value: min_data_in_leaf=100\n",
      "[LightGBM] [Warning] lambda_l2 is set=6.956863473783457, reg_lambda=0.0 will be ignored. Current value: lambda_l2=6.956863473783457\n",
      "[LightGBM] [Warning] lambda_l1 is set=0.10934767408981935, reg_alpha=0.0 will be ignored. Current value: lambda_l1=0.10934767408981935\n",
      "[LightGBM] [Warning] min_data_in_leaf is set=100, min_child_samples=20 will be ignored. Current value: min_data_in_leaf=100\n",
      "[LightGBM] [Warning] lambda_l2 is set=6.956863473783457, reg_lambda=0.0 will be ignored. Current value: lambda_l2=6.956863473783457\n",
      "[LightGBM] [Warning] lambda_l1 is set=0.10934767408981935, reg_alpha=0.0 will be ignored. Current value: lambda_l1=0.10934767408981935\n"
     ]
    },
    {
     "name": "stderr",
     "output_type": "stream",
     "text": [
      "\u001b[32m[I 2023-04-14 21:12:07,696]\u001b[0m Trial 9 finished with value: 1.7726874811364808 and parameters: {'colsample_bytree': 0.19753834021890676, 'colsample_bynode': 0.5423393362509015, 'max_depth': 9, 'learning_rate': 0.03019648550370554, 'lambda_l1': 0.10934767408981935, 'lambda_l2': 6.956863473783457, 'num_leaves': 550, 'min_data_in_leaf': 100}. Best is trial 0 with value: 1.7542303345776638.\u001b[0m\n"
     ]
    },
    {
     "name": "stdout",
     "output_type": "stream",
     "text": [
      "Mean SMAPE: 1.7727\n",
      "[LightGBM] [Warning] min_data_in_leaf is set=6, min_child_samples=20 will be ignored. Current value: min_data_in_leaf=6\n",
      "[LightGBM] [Warning] lambda_l2 is set=4.053692173000287, reg_lambda=0.0 will be ignored. Current value: lambda_l2=4.053692173000287\n",
      "[LightGBM] [Warning] lambda_l1 is set=0.495301233185272, reg_alpha=0.0 will be ignored. Current value: lambda_l1=0.495301233185272\n",
      "[LightGBM] [Warning] min_data_in_leaf is set=6, min_child_samples=20 will be ignored. Current value: min_data_in_leaf=6\n",
      "[LightGBM] [Warning] lambda_l2 is set=4.053692173000287, reg_lambda=0.0 will be ignored. Current value: lambda_l2=4.053692173000287\n",
      "[LightGBM] [Warning] lambda_l1 is set=0.495301233185272, reg_alpha=0.0 will be ignored. Current value: lambda_l1=0.495301233185272\n",
      "[LightGBM] [Warning] min_data_in_leaf is set=6, min_child_samples=20 will be ignored. Current value: min_data_in_leaf=6\n",
      "[LightGBM] [Warning] lambda_l2 is set=4.053692173000287, reg_lambda=0.0 will be ignored. Current value: lambda_l2=4.053692173000287\n",
      "[LightGBM] [Warning] lambda_l1 is set=0.495301233185272, reg_alpha=0.0 will be ignored. Current value: lambda_l1=0.495301233185272\n",
      "[LightGBM] [Warning] min_data_in_leaf is set=6, min_child_samples=20 will be ignored. Current value: min_data_in_leaf=6\n",
      "[LightGBM] [Warning] lambda_l2 is set=4.053692173000287, reg_lambda=0.0 will be ignored. Current value: lambda_l2=4.053692173000287\n",
      "[LightGBM] [Warning] lambda_l1 is set=0.495301233185272, reg_alpha=0.0 will be ignored. Current value: lambda_l1=0.495301233185272\n",
      "[LightGBM] [Warning] min_data_in_leaf is set=6, min_child_samples=20 will be ignored. Current value: min_data_in_leaf=6\n",
      "[LightGBM] [Warning] lambda_l2 is set=4.053692173000287, reg_lambda=0.0 will be ignored. Current value: lambda_l2=4.053692173000287\n",
      "[LightGBM] [Warning] lambda_l1 is set=0.495301233185272, reg_alpha=0.0 will be ignored. Current value: lambda_l1=0.495301233185272\n"
     ]
    },
    {
     "name": "stderr",
     "output_type": "stream",
     "text": [
      "\u001b[32m[I 2023-04-14 21:12:18,240]\u001b[0m Trial 10 finished with value: 1.7547864148866121 and parameters: {'colsample_bytree': 0.8683977638068292, 'colsample_bynode': 0.995996562134052, 'max_depth': 7, 'learning_rate': 0.09211157476852351, 'lambda_l1': 0.495301233185272, 'lambda_l2': 4.053692173000287, 'num_leaves': 862, 'min_data_in_leaf': 6}. Best is trial 0 with value: 1.7542303345776638.\u001b[0m\n"
     ]
    },
    {
     "name": "stdout",
     "output_type": "stream",
     "text": [
      "Mean SMAPE: 1.7548\n",
      "[LightGBM] [Warning] min_data_in_leaf is set=21, min_child_samples=20 will be ignored. Current value: min_data_in_leaf=21\n",
      "[LightGBM] [Warning] lambda_l2 is set=4.0034753132066525, reg_lambda=0.0 will be ignored. Current value: lambda_l2=4.0034753132066525\n",
      "[LightGBM] [Warning] lambda_l1 is set=0.16304171108970622, reg_alpha=0.0 will be ignored. Current value: lambda_l1=0.16304171108970622\n",
      "[LightGBM] [Warning] min_data_in_leaf is set=21, min_child_samples=20 will be ignored. Current value: min_data_in_leaf=21\n",
      "[LightGBM] [Warning] lambda_l2 is set=4.0034753132066525, reg_lambda=0.0 will be ignored. Current value: lambda_l2=4.0034753132066525\n",
      "[LightGBM] [Warning] lambda_l1 is set=0.16304171108970622, reg_alpha=0.0 will be ignored. Current value: lambda_l1=0.16304171108970622\n",
      "[LightGBM] [Warning] min_data_in_leaf is set=21, min_child_samples=20 will be ignored. Current value: min_data_in_leaf=21\n",
      "[LightGBM] [Warning] lambda_l2 is set=4.0034753132066525, reg_lambda=0.0 will be ignored. Current value: lambda_l2=4.0034753132066525\n",
      "[LightGBM] [Warning] lambda_l1 is set=0.16304171108970622, reg_alpha=0.0 will be ignored. Current value: lambda_l1=0.16304171108970622\n",
      "[LightGBM] [Warning] min_data_in_leaf is set=21, min_child_samples=20 will be ignored. Current value: min_data_in_leaf=21\n",
      "[LightGBM] [Warning] lambda_l2 is set=4.0034753132066525, reg_lambda=0.0 will be ignored. Current value: lambda_l2=4.0034753132066525\n",
      "[LightGBM] [Warning] lambda_l1 is set=0.16304171108970622, reg_alpha=0.0 will be ignored. Current value: lambda_l1=0.16304171108970622\n",
      "[LightGBM] [Warning] min_data_in_leaf is set=21, min_child_samples=20 will be ignored. Current value: min_data_in_leaf=21\n",
      "[LightGBM] [Warning] lambda_l2 is set=4.0034753132066525, reg_lambda=0.0 will be ignored. Current value: lambda_l2=4.0034753132066525\n",
      "[LightGBM] [Warning] lambda_l1 is set=0.16304171108970622, reg_alpha=0.0 will be ignored. Current value: lambda_l1=0.16304171108970622\n"
     ]
    },
    {
     "name": "stderr",
     "output_type": "stream",
     "text": [
      "\u001b[32m[I 2023-04-14 21:12:30,911]\u001b[0m Trial 11 finished with value: 1.7515253660027548 and parameters: {'colsample_bytree': 0.9181979269158975, 'colsample_bynode': 0.9829250069655396, 'max_depth': 7, 'learning_rate': 0.09931514406901268, 'lambda_l1': 0.16304171108970622, 'lambda_l2': 4.0034753132066525, 'num_leaves': 998, 'min_data_in_leaf': 21}. Best is trial 11 with value: 1.7515253660027548.\u001b[0m\n"
     ]
    },
    {
     "name": "stdout",
     "output_type": "stream",
     "text": [
      "Mean SMAPE: 1.7515\n",
      "[LightGBM] [Warning] min_data_in_leaf is set=244, min_child_samples=20 will be ignored. Current value: min_data_in_leaf=244\n",
      "[LightGBM] [Warning] lambda_l2 is set=4.036834389962285, reg_lambda=0.0 will be ignored. Current value: lambda_l2=4.036834389962285\n",
      "[LightGBM] [Warning] lambda_l1 is set=0.28196323343258434, reg_alpha=0.0 will be ignored. Current value: lambda_l1=0.28196323343258434\n",
      "[LightGBM] [Warning] min_data_in_leaf is set=244, min_child_samples=20 will be ignored. Current value: min_data_in_leaf=244\n",
      "[LightGBM] [Warning] lambda_l2 is set=4.036834389962285, reg_lambda=0.0 will be ignored. Current value: lambda_l2=4.036834389962285\n",
      "[LightGBM] [Warning] lambda_l1 is set=0.28196323343258434, reg_alpha=0.0 will be ignored. Current value: lambda_l1=0.28196323343258434\n",
      "[LightGBM] [Warning] min_data_in_leaf is set=244, min_child_samples=20 will be ignored. Current value: min_data_in_leaf=244\n",
      "[LightGBM] [Warning] lambda_l2 is set=4.036834389962285, reg_lambda=0.0 will be ignored. Current value: lambda_l2=4.036834389962285\n",
      "[LightGBM] [Warning] lambda_l1 is set=0.28196323343258434, reg_alpha=0.0 will be ignored. Current value: lambda_l1=0.28196323343258434\n",
      "[LightGBM] [Warning] min_data_in_leaf is set=244, min_child_samples=20 will be ignored. Current value: min_data_in_leaf=244\n",
      "[LightGBM] [Warning] lambda_l2 is set=4.036834389962285, reg_lambda=0.0 will be ignored. Current value: lambda_l2=4.036834389962285\n",
      "[LightGBM] [Warning] lambda_l1 is set=0.28196323343258434, reg_alpha=0.0 will be ignored. Current value: lambda_l1=0.28196323343258434\n",
      "[LightGBM] [Warning] min_data_in_leaf is set=244, min_child_samples=20 will be ignored. Current value: min_data_in_leaf=244\n",
      "[LightGBM] [Warning] lambda_l2 is set=4.036834389962285, reg_lambda=0.0 will be ignored. Current value: lambda_l2=4.036834389962285\n",
      "[LightGBM] [Warning] lambda_l1 is set=0.28196323343258434, reg_alpha=0.0 will be ignored. Current value: lambda_l1=0.28196323343258434\n"
     ]
    },
    {
     "name": "stderr",
     "output_type": "stream",
     "text": [
      "\u001b[32m[I 2023-04-14 21:12:42,686]\u001b[0m Trial 12 finished with value: 1.7512830113285887 and parameters: {'colsample_bytree': 0.9021574727585524, 'colsample_bynode': 0.9979866482171309, 'max_depth': 7, 'learning_rate': 0.09621989991340792, 'lambda_l1': 0.28196323343258434, 'lambda_l2': 4.036834389962285, 'num_leaves': 1006, 'min_data_in_leaf': 244}. Best is trial 12 with value: 1.7512830113285887.\u001b[0m\n"
     ]
    },
    {
     "name": "stdout",
     "output_type": "stream",
     "text": [
      "Mean SMAPE: 1.7513\n",
      "[LightGBM] [Warning] min_data_in_leaf is set=5, min_child_samples=20 will be ignored. Current value: min_data_in_leaf=5\n",
      "[LightGBM] [Warning] lambda_l2 is set=3.192841036184949, reg_lambda=0.0 will be ignored. Current value: lambda_l2=3.192841036184949\n",
      "[LightGBM] [Warning] lambda_l1 is set=0.028211046877731155, reg_alpha=0.0 will be ignored. Current value: lambda_l1=0.028211046877731155\n",
      "[LightGBM] [Warning] min_data_in_leaf is set=5, min_child_samples=20 will be ignored. Current value: min_data_in_leaf=5\n",
      "[LightGBM] [Warning] lambda_l2 is set=3.192841036184949, reg_lambda=0.0 will be ignored. Current value: lambda_l2=3.192841036184949\n",
      "[LightGBM] [Warning] lambda_l1 is set=0.028211046877731155, reg_alpha=0.0 will be ignored. Current value: lambda_l1=0.028211046877731155\n",
      "[LightGBM] [Warning] min_data_in_leaf is set=5, min_child_samples=20 will be ignored. Current value: min_data_in_leaf=5\n",
      "[LightGBM] [Warning] lambda_l2 is set=3.192841036184949, reg_lambda=0.0 will be ignored. Current value: lambda_l2=3.192841036184949\n",
      "[LightGBM] [Warning] lambda_l1 is set=0.028211046877731155, reg_alpha=0.0 will be ignored. Current value: lambda_l1=0.028211046877731155\n",
      "[LightGBM] [Warning] min_data_in_leaf is set=5, min_child_samples=20 will be ignored. Current value: min_data_in_leaf=5\n",
      "[LightGBM] [Warning] lambda_l2 is set=3.192841036184949, reg_lambda=0.0 will be ignored. Current value: lambda_l2=3.192841036184949\n",
      "[LightGBM] [Warning] lambda_l1 is set=0.028211046877731155, reg_alpha=0.0 will be ignored. Current value: lambda_l1=0.028211046877731155\n",
      "[LightGBM] [Warning] min_data_in_leaf is set=5, min_child_samples=20 will be ignored. Current value: min_data_in_leaf=5\n",
      "[LightGBM] [Warning] lambda_l2 is set=3.192841036184949, reg_lambda=0.0 will be ignored. Current value: lambda_l2=3.192841036184949\n",
      "[LightGBM] [Warning] lambda_l1 is set=0.028211046877731155, reg_alpha=0.0 will be ignored. Current value: lambda_l1=0.028211046877731155\n"
     ]
    },
    {
     "name": "stderr",
     "output_type": "stream",
     "text": [
      "\u001b[32m[I 2023-04-14 21:12:54,079]\u001b[0m Trial 13 finished with value: 1.7526703566508783 and parameters: {'colsample_bytree': 0.9860668887807842, 'colsample_bynode': 0.9998948628556265, 'max_depth': 7, 'learning_rate': 0.09668967356958046, 'lambda_l1': 0.028211046877731155, 'lambda_l2': 3.192841036184949, 'num_leaves': 1012, 'min_data_in_leaf': 5}. Best is trial 12 with value: 1.7512830113285887.\u001b[0m\n"
     ]
    },
    {
     "name": "stdout",
     "output_type": "stream",
     "text": [
      "Mean SMAPE: 1.7527\n",
      "[LightGBM] [Warning] min_data_in_leaf is set=53, min_child_samples=20 will be ignored. Current value: min_data_in_leaf=53\n",
      "[LightGBM] [Warning] lambda_l2 is set=3.0810377818521864, reg_lambda=0.0 will be ignored. Current value: lambda_l2=3.0810377818521864\n",
      "[LightGBM] [Warning] lambda_l1 is set=1.6809422250357078, reg_alpha=0.0 will be ignored. Current value: lambda_l1=1.6809422250357078\n",
      "[LightGBM] [Warning] min_data_in_leaf is set=53, min_child_samples=20 will be ignored. Current value: min_data_in_leaf=53\n",
      "[LightGBM] [Warning] lambda_l2 is set=3.0810377818521864, reg_lambda=0.0 will be ignored. Current value: lambda_l2=3.0810377818521864\n",
      "[LightGBM] [Warning] lambda_l1 is set=1.6809422250357078, reg_alpha=0.0 will be ignored. Current value: lambda_l1=1.6809422250357078\n",
      "[LightGBM] [Warning] min_data_in_leaf is set=53, min_child_samples=20 will be ignored. Current value: min_data_in_leaf=53\n",
      "[LightGBM] [Warning] lambda_l2 is set=3.0810377818521864, reg_lambda=0.0 will be ignored. Current value: lambda_l2=3.0810377818521864\n",
      "[LightGBM] [Warning] lambda_l1 is set=1.6809422250357078, reg_alpha=0.0 will be ignored. Current value: lambda_l1=1.6809422250357078\n",
      "[LightGBM] [Warning] min_data_in_leaf is set=53, min_child_samples=20 will be ignored. Current value: min_data_in_leaf=53\n",
      "[LightGBM] [Warning] lambda_l2 is set=3.0810377818521864, reg_lambda=0.0 will be ignored. Current value: lambda_l2=3.0810377818521864\n",
      "[LightGBM] [Warning] lambda_l1 is set=1.6809422250357078, reg_alpha=0.0 will be ignored. Current value: lambda_l1=1.6809422250357078\n",
      "[LightGBM] [Warning] min_data_in_leaf is set=53, min_child_samples=20 will be ignored. Current value: min_data_in_leaf=53\n",
      "[LightGBM] [Warning] lambda_l2 is set=3.0810377818521864, reg_lambda=0.0 will be ignored. Current value: lambda_l2=3.0810377818521864\n",
      "[LightGBM] [Warning] lambda_l1 is set=1.6809422250357078, reg_alpha=0.0 will be ignored. Current value: lambda_l1=1.6809422250357078\n"
     ]
    },
    {
     "name": "stderr",
     "output_type": "stream",
     "text": [
      "\u001b[32m[I 2023-04-14 21:13:05,325]\u001b[0m Trial 14 finished with value: 1.7520903016366678 and parameters: {'colsample_bytree': 0.8080214736534358, 'colsample_bynode': 0.7011809406335497, 'max_depth': 6, 'learning_rate': 0.09668122574635463, 'lambda_l1': 1.6809422250357078, 'lambda_l2': 3.0810377818521864, 'num_leaves': 1011, 'min_data_in_leaf': 53}. Best is trial 12 with value: 1.7512830113285887.\u001b[0m\n"
     ]
    },
    {
     "name": "stdout",
     "output_type": "stream",
     "text": [
      "Mean SMAPE: 1.7521\n",
      "[LightGBM] [Warning] min_data_in_leaf is set=187, min_child_samples=20 will be ignored. Current value: min_data_in_leaf=187\n",
      "[LightGBM] [Warning] lambda_l2 is set=4.986165411020496, reg_lambda=0.0 will be ignored. Current value: lambda_l2=4.986165411020496\n",
      "[LightGBM] [Warning] lambda_l1 is set=1.0906700323714915, reg_alpha=0.0 will be ignored. Current value: lambda_l1=1.0906700323714915\n",
      "[LightGBM] [Warning] min_data_in_leaf is set=187, min_child_samples=20 will be ignored. Current value: min_data_in_leaf=187\n",
      "[LightGBM] [Warning] lambda_l2 is set=4.986165411020496, reg_lambda=0.0 will be ignored. Current value: lambda_l2=4.986165411020496\n",
      "[LightGBM] [Warning] lambda_l1 is set=1.0906700323714915, reg_alpha=0.0 will be ignored. Current value: lambda_l1=1.0906700323714915\n",
      "[LightGBM] [Warning] min_data_in_leaf is set=187, min_child_samples=20 will be ignored. Current value: min_data_in_leaf=187\n",
      "[LightGBM] [Warning] lambda_l2 is set=4.986165411020496, reg_lambda=0.0 will be ignored. Current value: lambda_l2=4.986165411020496\n",
      "[LightGBM] [Warning] lambda_l1 is set=1.0906700323714915, reg_alpha=0.0 will be ignored. Current value: lambda_l1=1.0906700323714915\n",
      "[LightGBM] [Warning] min_data_in_leaf is set=187, min_child_samples=20 will be ignored. Current value: min_data_in_leaf=187\n",
      "[LightGBM] [Warning] lambda_l2 is set=4.986165411020496, reg_lambda=0.0 will be ignored. Current value: lambda_l2=4.986165411020496\n",
      "[LightGBM] [Warning] lambda_l1 is set=1.0906700323714915, reg_alpha=0.0 will be ignored. Current value: lambda_l1=1.0906700323714915\n",
      "[LightGBM] [Warning] min_data_in_leaf is set=187, min_child_samples=20 will be ignored. Current value: min_data_in_leaf=187\n",
      "[LightGBM] [Warning] lambda_l2 is set=4.986165411020496, reg_lambda=0.0 will be ignored. Current value: lambda_l2=4.986165411020496\n",
      "[LightGBM] [Warning] lambda_l1 is set=1.0906700323714915, reg_alpha=0.0 will be ignored. Current value: lambda_l1=1.0906700323714915\n"
     ]
    },
    {
     "name": "stderr",
     "output_type": "stream",
     "text": [
      "\u001b[32m[I 2023-04-14 21:13:19,181]\u001b[0m Trial 15 finished with value: 1.7507524635585754 and parameters: {'colsample_bytree': 0.9852786192420953, 'colsample_bynode': 0.7056108869176172, 'max_depth': 7, 'learning_rate': 0.07995077763843395, 'lambda_l1': 1.0906700323714915, 'lambda_l2': 4.986165411020496, 'num_leaves': 826, 'min_data_in_leaf': 187}. Best is trial 15 with value: 1.7507524635585754.\u001b[0m\n"
     ]
    },
    {
     "name": "stdout",
     "output_type": "stream",
     "text": [
      "Mean SMAPE: 1.7508\n",
      "[LightGBM] [Warning] min_data_in_leaf is set=193, min_child_samples=20 will be ignored. Current value: min_data_in_leaf=193\n",
      "[LightGBM] [Warning] lambda_l2 is set=5.754926949696287, reg_lambda=0.0 will be ignored. Current value: lambda_l2=5.754926949696287\n",
      "[LightGBM] [Warning] lambda_l1 is set=2.016052996755408, reg_alpha=0.0 will be ignored. Current value: lambda_l1=2.016052996755408\n",
      "[LightGBM] [Warning] min_data_in_leaf is set=193, min_child_samples=20 will be ignored. Current value: min_data_in_leaf=193\n",
      "[LightGBM] [Warning] lambda_l2 is set=5.754926949696287, reg_lambda=0.0 will be ignored. Current value: lambda_l2=5.754926949696287\n",
      "[LightGBM] [Warning] lambda_l1 is set=2.016052996755408, reg_alpha=0.0 will be ignored. Current value: lambda_l1=2.016052996755408\n",
      "[LightGBM] [Warning] min_data_in_leaf is set=193, min_child_samples=20 will be ignored. Current value: min_data_in_leaf=193\n",
      "[LightGBM] [Warning] lambda_l2 is set=5.754926949696287, reg_lambda=0.0 will be ignored. Current value: lambda_l2=5.754926949696287\n",
      "[LightGBM] [Warning] lambda_l1 is set=2.016052996755408, reg_alpha=0.0 will be ignored. Current value: lambda_l1=2.016052996755408\n",
      "[LightGBM] [Warning] min_data_in_leaf is set=193, min_child_samples=20 will be ignored. Current value: min_data_in_leaf=193\n",
      "[LightGBM] [Warning] lambda_l2 is set=5.754926949696287, reg_lambda=0.0 will be ignored. Current value: lambda_l2=5.754926949696287\n",
      "[LightGBM] [Warning] lambda_l1 is set=2.016052996755408, reg_alpha=0.0 will be ignored. Current value: lambda_l1=2.016052996755408\n",
      "[LightGBM] [Warning] min_data_in_leaf is set=193, min_child_samples=20 will be ignored. Current value: min_data_in_leaf=193\n",
      "[LightGBM] [Warning] lambda_l2 is set=5.754926949696287, reg_lambda=0.0 will be ignored. Current value: lambda_l2=5.754926949696287\n",
      "[LightGBM] [Warning] lambda_l1 is set=2.016052996755408, reg_alpha=0.0 will be ignored. Current value: lambda_l1=2.016052996755408\n"
     ]
    },
    {
     "name": "stderr",
     "output_type": "stream",
     "text": [
      "\u001b[32m[I 2023-04-14 21:13:35,638]\u001b[0m Trial 16 finished with value: 1.751282756249139 and parameters: {'colsample_bytree': 0.9932144499300561, 'colsample_bynode': 0.6663177719861635, 'max_depth': 8, 'learning_rate': 0.07259729510493959, 'lambda_l1': 2.016052996755408, 'lambda_l2': 5.754926949696287, 'num_leaves': 777, 'min_data_in_leaf': 193}. Best is trial 15 with value: 1.7507524635585754.\u001b[0m\n"
     ]
    },
    {
     "name": "stdout",
     "output_type": "stream",
     "text": [
      "Mean SMAPE: 1.7513\n",
      "[LightGBM] [Warning] min_data_in_leaf is set=190, min_child_samples=20 will be ignored. Current value: min_data_in_leaf=190\n",
      "[LightGBM] [Warning] lambda_l2 is set=5.747661790117883, reg_lambda=0.0 will be ignored. Current value: lambda_l2=5.747661790117883\n",
      "[LightGBM] [Warning] lambda_l1 is set=1.6774012430934238, reg_alpha=0.0 will be ignored. Current value: lambda_l1=1.6774012430934238\n",
      "[LightGBM] [Warning] min_data_in_leaf is set=190, min_child_samples=20 will be ignored. Current value: min_data_in_leaf=190\n",
      "[LightGBM] [Warning] lambda_l2 is set=5.747661790117883, reg_lambda=0.0 will be ignored. Current value: lambda_l2=5.747661790117883\n",
      "[LightGBM] [Warning] lambda_l1 is set=1.6774012430934238, reg_alpha=0.0 will be ignored. Current value: lambda_l1=1.6774012430934238\n",
      "[LightGBM] [Warning] min_data_in_leaf is set=190, min_child_samples=20 will be ignored. Current value: min_data_in_leaf=190\n",
      "[LightGBM] [Warning] lambda_l2 is set=5.747661790117883, reg_lambda=0.0 will be ignored. Current value: lambda_l2=5.747661790117883\n",
      "[LightGBM] [Warning] lambda_l1 is set=1.6774012430934238, reg_alpha=0.0 will be ignored. Current value: lambda_l1=1.6774012430934238\n",
      "[LightGBM] [Warning] min_data_in_leaf is set=190, min_child_samples=20 will be ignored. Current value: min_data_in_leaf=190\n",
      "[LightGBM] [Warning] lambda_l2 is set=5.747661790117883, reg_lambda=0.0 will be ignored. Current value: lambda_l2=5.747661790117883\n",
      "[LightGBM] [Warning] lambda_l1 is set=1.6774012430934238, reg_alpha=0.0 will be ignored. Current value: lambda_l1=1.6774012430934238\n",
      "[LightGBM] [Warning] min_data_in_leaf is set=190, min_child_samples=20 will be ignored. Current value: min_data_in_leaf=190\n",
      "[LightGBM] [Warning] lambda_l2 is set=5.747661790117883, reg_lambda=0.0 will be ignored. Current value: lambda_l2=5.747661790117883\n",
      "[LightGBM] [Warning] lambda_l1 is set=1.6774012430934238, reg_alpha=0.0 will be ignored. Current value: lambda_l1=1.6774012430934238\n"
     ]
    },
    {
     "name": "stderr",
     "output_type": "stream",
     "text": [
      "\u001b[32m[I 2023-04-14 21:13:53,069]\u001b[0m Trial 17 finished with value: 1.7514677042387075 and parameters: {'colsample_bytree': 0.7947505540608778, 'colsample_bynode': 0.6613977757261544, 'max_depth': 8, 'learning_rate': 0.07213897018620868, 'lambda_l1': 1.6774012430934238, 'lambda_l2': 5.747661790117883, 'num_leaves': 779, 'min_data_in_leaf': 190}. Best is trial 15 with value: 1.7507524635585754.\u001b[0m\n"
     ]
    },
    {
     "name": "stdout",
     "output_type": "stream",
     "text": [
      "Mean SMAPE: 1.7515\n",
      "[LightGBM] [Warning] min_data_in_leaf is set=178, min_child_samples=20 will be ignored. Current value: min_data_in_leaf=178\n",
      "[LightGBM] [Warning] lambda_l2 is set=6.105983280243719, reg_lambda=0.0 will be ignored. Current value: lambda_l2=6.105983280243719\n",
      "[LightGBM] [Warning] lambda_l1 is set=1.5090908556438065, reg_alpha=0.0 will be ignored. Current value: lambda_l1=1.5090908556438065\n",
      "[LightGBM] [Warning] min_data_in_leaf is set=178, min_child_samples=20 will be ignored. Current value: min_data_in_leaf=178\n",
      "[LightGBM] [Warning] lambda_l2 is set=6.105983280243719, reg_lambda=0.0 will be ignored. Current value: lambda_l2=6.105983280243719\n",
      "[LightGBM] [Warning] lambda_l1 is set=1.5090908556438065, reg_alpha=0.0 will be ignored. Current value: lambda_l1=1.5090908556438065\n",
      "[LightGBM] [Warning] min_data_in_leaf is set=178, min_child_samples=20 will be ignored. Current value: min_data_in_leaf=178\n",
      "[LightGBM] [Warning] lambda_l2 is set=6.105983280243719, reg_lambda=0.0 will be ignored. Current value: lambda_l2=6.105983280243719\n",
      "[LightGBM] [Warning] lambda_l1 is set=1.5090908556438065, reg_alpha=0.0 will be ignored. Current value: lambda_l1=1.5090908556438065\n",
      "[LightGBM] [Warning] min_data_in_leaf is set=178, min_child_samples=20 will be ignored. Current value: min_data_in_leaf=178\n",
      "[LightGBM] [Warning] lambda_l2 is set=6.105983280243719, reg_lambda=0.0 will be ignored. Current value: lambda_l2=6.105983280243719\n",
      "[LightGBM] [Warning] lambda_l1 is set=1.5090908556438065, reg_alpha=0.0 will be ignored. Current value: lambda_l1=1.5090908556438065\n",
      "[LightGBM] [Warning] min_data_in_leaf is set=178, min_child_samples=20 will be ignored. Current value: min_data_in_leaf=178\n",
      "[LightGBM] [Warning] lambda_l2 is set=6.105983280243719, reg_lambda=0.0 will be ignored. Current value: lambda_l2=6.105983280243719\n",
      "[LightGBM] [Warning] lambda_l1 is set=1.5090908556438065, reg_alpha=0.0 will be ignored. Current value: lambda_l1=1.5090908556438065\n"
     ]
    },
    {
     "name": "stderr",
     "output_type": "stream",
     "text": [
      "\u001b[32m[I 2023-04-14 21:14:16,740]\u001b[0m Trial 18 finished with value: 1.750562904110117 and parameters: {'colsample_bytree': 0.9851161038051562, 'colsample_bynode': 0.6647720786039399, 'max_depth': 10, 'learning_rate': 0.04242766504090565, 'lambda_l1': 1.5090908556438065, 'lambda_l2': 6.105983280243719, 'num_leaves': 687, 'min_data_in_leaf': 178}. Best is trial 18 with value: 1.750562904110117.\u001b[0m\n"
     ]
    },
    {
     "name": "stdout",
     "output_type": "stream",
     "text": [
      "Mean SMAPE: 1.7506\n",
      "[LightGBM] [Warning] min_data_in_leaf is set=174, min_child_samples=20 will be ignored. Current value: min_data_in_leaf=174\n",
      "[LightGBM] [Warning] lambda_l2 is set=7.2261788423304285, reg_lambda=0.0 will be ignored. Current value: lambda_l2=7.2261788423304285\n",
      "[LightGBM] [Warning] lambda_l1 is set=3.5490622332470467, reg_alpha=0.0 will be ignored. Current value: lambda_l1=3.5490622332470467\n",
      "[LightGBM] [Warning] min_data_in_leaf is set=174, min_child_samples=20 will be ignored. Current value: min_data_in_leaf=174\n",
      "[LightGBM] [Warning] lambda_l2 is set=7.2261788423304285, reg_lambda=0.0 will be ignored. Current value: lambda_l2=7.2261788423304285\n",
      "[LightGBM] [Warning] lambda_l1 is set=3.5490622332470467, reg_alpha=0.0 will be ignored. Current value: lambda_l1=3.5490622332470467\n",
      "[LightGBM] [Warning] min_data_in_leaf is set=174, min_child_samples=20 will be ignored. Current value: min_data_in_leaf=174\n",
      "[LightGBM] [Warning] lambda_l2 is set=7.2261788423304285, reg_lambda=0.0 will be ignored. Current value: lambda_l2=7.2261788423304285\n",
      "[LightGBM] [Warning] lambda_l1 is set=3.5490622332470467, reg_alpha=0.0 will be ignored. Current value: lambda_l1=3.5490622332470467\n",
      "[LightGBM] [Warning] min_data_in_leaf is set=174, min_child_samples=20 will be ignored. Current value: min_data_in_leaf=174\n",
      "[LightGBM] [Warning] lambda_l2 is set=7.2261788423304285, reg_lambda=0.0 will be ignored. Current value: lambda_l2=7.2261788423304285\n",
      "[LightGBM] [Warning] lambda_l1 is set=3.5490622332470467, reg_alpha=0.0 will be ignored. Current value: lambda_l1=3.5490622332470467\n",
      "[LightGBM] [Warning] min_data_in_leaf is set=174, min_child_samples=20 will be ignored. Current value: min_data_in_leaf=174\n",
      "[LightGBM] [Warning] lambda_l2 is set=7.2261788423304285, reg_lambda=0.0 will be ignored. Current value: lambda_l2=7.2261788423304285\n",
      "[LightGBM] [Warning] lambda_l1 is set=3.5490622332470467, reg_alpha=0.0 will be ignored. Current value: lambda_l1=3.5490622332470467\n"
     ]
    },
    {
     "name": "stderr",
     "output_type": "stream",
     "text": [
      "\u001b[32m[I 2023-04-14 21:14:35,498]\u001b[0m Trial 19 finished with value: 1.7541432597372073 and parameters: {'colsample_bytree': 0.4651571259079887, 'colsample_bynode': 0.7325173422461719, 'max_depth': 10, 'learning_rate': 0.04105100171960733, 'lambda_l1': 3.5490622332470467, 'lambda_l2': 7.2261788423304285, 'num_leaves': 694, 'min_data_in_leaf': 174}. Best is trial 18 with value: 1.750562904110117.\u001b[0m\n"
     ]
    },
    {
     "name": "stdout",
     "output_type": "stream",
     "text": [
      "Mean SMAPE: 1.7541\n",
      "Best trial: 1.750562904110117 with parameters {'colsample_bytree': 0.9851161038051562, 'colsample_bynode': 0.6647720786039399, 'max_depth': 10, 'learning_rate': 0.04242766504090565, 'lambda_l1': 1.5090908556438065, 'lambda_l2': 6.105983280243719, 'num_leaves': 687, 'min_data_in_leaf': 178}\n"
     ]
    }
   ],
   "source": [
    "import optuna\n",
    "import pandas as pd\n",
    "\n",
    "study = optuna.create_study(direction='minimize')\n",
    "study.optimize(lambda trial: lgbm_objective(trial, df_train, target_train), n_trials=20)\n",
    "\n",
    "# Print the best trial\n",
    "print(f\"Best trial: {study.best_trial.value} with parameters {study.best_trial.params}\")"
   ]
  },
  {
   "cell_type": "code",
   "execution_count": 31,
   "metadata": {},
   "outputs": [],
   "source": [
    "params = study.best_trial.params\n",
    "LGBM = lgb.LGBMRegressor(**params)"
   ]
  },
  {
   "cell_type": "code",
   "execution_count": 33,
   "metadata": {},
   "outputs": [
    {
     "name": "stdout",
     "output_type": "stream",
     "text": [
      "[LightGBM] [Warning] min_data_in_leaf is set=178, min_child_samples=20 will be ignored. Current value: min_data_in_leaf=178\n",
      "[LightGBM] [Warning] lambda_l1 is set=1.5090908556438065, reg_alpha=0.0 will be ignored. Current value: lambda_l1=1.5090908556438065\n",
      "[LightGBM] [Warning] lambda_l2 is set=6.105983280243719, reg_lambda=0.0 will be ignored. Current value: lambda_l2=6.105983280243719\n"
     ]
    },
    {
     "data": {
      "text/plain": [
       "array([3.36006323, 8.54059812, 1.19667252, ..., 3.91537597, 3.13450942,\n",
       "       1.81122218])"
      ]
     },
     "execution_count": 33,
     "metadata": {},
     "output_type": "execute_result"
    }
   ],
   "source": [
    "LGBM.fit(df_train, target_train)\n",
    "y_pred = np.exp(LGBM.predict(df_test)) * df_test.microbusiness_density"
   ]
  },
  {
   "cell_type": "code",
   "execution_count": 67,
   "metadata": {},
   "outputs": [
    {
     "name": "stdout",
     "output_type": "stream",
     "text": [
      "2.1456129466724616\n"
     ]
    }
   ],
   "source": [
    "my_cfips = df_train['cfips'].unique()\n",
    "train = train[train.cfips.isin(my_cfips)]\n",
    "pred = y_pred.values\n",
    "y_true = train[train.row_id.str.contains('2022-07-01')].microbusiness_density.values\n",
    "print(smape_loss(y_true, pred))"
   ]
  },
  {
   "cell_type": "code",
   "execution_count": null,
   "metadata": {},
   "outputs": [],
   "source": [
    "# clip_err = True\n",
    "\n",
    "# if clip_err:\n",
    "#     df_record = y_pred.merge(y_base, on = 'row_id', how='inner')\n",
    "#     df_record = df_record.merge(y_true, on = 'row_id', how='inner')\n",
    "#     def smape_(y_true, y_pred):\n",
    "#         return 100  * np.sum(2 * np.abs(y_pred - y_true) / (np.abs(y_true) + np.abs(y_pred)))\n",
    "    \n",
    "#     base_err = df_record.apply(lambda x: smape_(x.y_true, x.y_base), axis=1)\n",
    "#     pred_err = df_record.apply(lambda x: smape_(x.y_true, x.microbusiness_density), axis=1)\n",
    "#     blacklist = base_err[(base_err + 1e-3) < pred_err].index\n",
    "#     y_pred.iloc[blacklist] = y_base.iloc[blacklist]\n",
    "#     avg_base_err = base_err.mean()\n",
    "#     avg_pred_err = pred_err.mean()\n",
    "#     print(avg_base_err, avg_pred_err)\n",
    "#     df_sub = pd.read_csv('sample_submission.csv')\n",
    "#     df_sub = df_sub.drop(columns='microbusiness_density')\n",
    "#     df_sub['cfips'] = df_sub.row_id.str.split('_', expand=True)[0]\n",
    "#     y_pred['cfips'] = y_pred.row_id.str.split('_', expand=True)[0]\n",
    "#     merged_df = df_sub.merge(y_pred, on='cfips', how='left', suffixes=('', '_drop'))\n",
    "#     merged_df = merged_df.loc[:,~merged_df.columns.str.endswith('_drop')]\n",
    "#     # merged_df = merged_df.drop(columns='cfips')\n",
    "# else:\n",
    "#     df_sub = pd.read_csv('sample_submission.csv')\n",
    "#     df_sub = df_sub.drop(columns='microbusiness_density')\n",
    "#     df_sub['cfips'] = df_sub.row_id.str.split('_', expand=True)[0]\n",
    "#     y_pred['cfips'] = y_pred.row_id.str.split('_', expand=True)[0]\n",
    "#     merged_df = df_sub.merge(y_pred, on='cfips', how='left', suffixes=('', '_drop'))\n",
    "#     merged_df = merged_df.loc[:,~merged_df.columns.str.endswith('_drop')]\n",
    "#     # merged_df = merged_df.drop(columns='cfips')"
   ]
  }
 ],
 "metadata": {
  "kernelspec": {
   "display_name": "Python 3 (ipykernel)",
   "language": "python",
   "name": "python3"
  },
  "language_info": {
   "codemirror_mode": {
    "name": "ipython",
    "version": 3
   },
   "file_extension": ".py",
   "mimetype": "text/x-python",
   "name": "python",
   "nbconvert_exporter": "python",
   "pygments_lexer": "ipython3",
   "version": "3.9.16"
  }
 },
 "nbformat": 4,
 "nbformat_minor": 2
}
