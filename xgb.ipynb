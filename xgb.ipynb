{
 "cells": [
  {
   "cell_type": "code",
   "execution_count": 2,
   "metadata": {},
   "outputs": [],
   "source": [
    "import xgboost as xgb\n",
    "from sklearn.model_selection import TimeSeriesSplit\n",
    "import numpy as np\n",
    "import pandas as pd\n",
    "\n",
    "df_train = pd.read_csv('df_train.csv', index_col='row_id')\n",
    "df_test = pd.read_csv('df_test.csv', index_col='row_id')\n",
    "target_train = pd.read_csv('target_train.csv', index_col='row_id').squeeze()\n",
    "target_test = pd.read_csv('target_test.csv', index_col='row_id').squeeze()"
   ]
  },
  {
   "cell_type": "code",
   "execution_count": 8,
   "metadata": {},
   "outputs": [],
   "source": [
    "def smape_loss(y_true, y_pred):\n",
    "    \"\"\"\n",
    "    Custom SMAPE loss function for LightGBM\n",
    "    \"\"\"\n",
    "    return np.mean(2 * np.abs(y_pred - y_true) / (np.abs(y_true) + np.abs(y_pred))) * 100\n",
    "\n",
    "def xgb_smape_eval(y_pred, y_true):\n",
    "    y_true = y_true.get_label()\n",
    "    return 'SMAPE', smape_loss(y_true, y_pred)\n",
    "\n",
    "def smape_cv(model, df_train, target_train):\n",
    "    tscv = TimeSeriesSplit(n_splits=5)\n",
    "    smape_list = []\n",
    "    for _, (train_index, test_index) in enumerate(tscv.split(df_train), start=1):\n",
    "        # Create training and validation datasets\n",
    "        X_train = df_train.iloc[train_index]\n",
    "        y_train = target_train.iloc[train_index]\n",
    "        X_valid = df_train.iloc[test_index]\n",
    "        y_valid = target_train.iloc[test_index]\n",
    "\n",
    "        model.fit(X_train, y_train, eval_set=[(X_valid, y_valid)], eval_metric=xgb_smape_eval, verbose=False)\n",
    "\n",
    "        # Make predictions\n",
    "        y_pred = np.exp(model.predict(X_valid)) * X_valid['microbusiness_density']\n",
    "        y_valid = np.exp(y_valid) * X_valid['microbusiness_density']\n",
    "\n",
    "        # Calculate SMAPE score\n",
    "        smape = smape_loss(y_valid, y_pred)\n",
    "        smape_list.append(smape)\n",
    "\n",
    "    print(f'Mean SMAPE: {np.mean(smape_list):.4f}')\n",
    "    return np.mean(smape_list)\n",
    "\n",
    "def xgb_objective(trial, df_train, target_train):\n",
    "    \"\"\"\n",
    "    Objective function for XGBoost optimization without rolling window cross-validation.\n",
    "    \"\"\"\n",
    "    params = {\n",
    "        'n_estimators': 200,\n",
    "        'verbosity': 0,\n",
    "        'objective': 'reg:squarederror',\n",
    "        'random_state': 42,\n",
    "        'colsample_bytree': trial.suggest_float('colsample_bytree', 0.1, 1.0),\n",
    "        'colsample_bynode': trial.suggest_float('colsample_bynode', 0.1, 1.0),\n",
    "        'max_depth': trial.suggest_int('max_depth', 3, 10),\n",
    "        'learning_rate': trial.suggest_float('learning_rate', 0.01, 0.1, log=True),\n",
    "        'alpha': trial.suggest_float('alpha', 1e-2, 10.0),\n",
    "        'lambda': trial.suggest_float('lambda', 1e-2, 10.0),\n",
    "        'min_child_weight': trial.suggest_int('min_child_weight', 5, 250),\n",
    "    }\n",
    "\n",
    "    model = xgb.XGBRegressor(**params)\n",
    "    score = smape_cv(model, df_train, target_train)\n",
    "    return score"
   ]
  },
  {
   "cell_type": "code",
   "execution_count": 10,
   "metadata": {},
   "outputs": [
    {
     "name": "stderr",
     "output_type": "stream",
     "text": [
      "\u001b[32m[I 2023-04-14 21:22:14,607]\u001b[0m A new study created in memory with name: no-name-6f57d486-3fe6-49f4-890f-e0572cb824b0\u001b[0m\n",
      "/opt/homebrew/Caskroom/miniforge/base/envs/base_env/lib/python3.8/site-packages/xgboost/sklearn.py:835: UserWarning: `eval_metric` in `fit` method is deprecated for better compatibility with scikit-learn, use `eval_metric` in constructor or`set_params` instead.\n",
      "  warnings.warn(\n",
      "\u001b[32m[I 2023-04-14 21:22:35,883]\u001b[0m Trial 0 finished with value: 1.803249470593744 and parameters: {'colsample_bytree': 0.15996327708571992, 'colsample_bynode': 0.2377195265350667, 'max_depth': 8, 'learning_rate': 0.04916567077570185, 'alpha': 4.247074663537053, 'lambda': 5.1522160099247, 'min_child_weight': 73}. Best is trial 0 with value: 1.803249470593744.\u001b[0m\n"
     ]
    },
    {
     "name": "stdout",
     "output_type": "stream",
     "text": [
      "Mean SMAPE: 1.8032\n"
     ]
    },
    {
     "name": "stderr",
     "output_type": "stream",
     "text": [
      "\u001b[32m[I 2023-04-14 21:23:02,881]\u001b[0m Trial 1 finished with value: 1.8079803846530176 and parameters: {'colsample_bytree': 0.5246112284274684, 'colsample_bynode': 0.32254866065534993, 'max_depth': 6, 'learning_rate': 0.04041848464609895, 'alpha': 6.910955818510056, 'lambda': 8.201931571879708, 'min_child_weight': 59}. Best is trial 0 with value: 1.803249470593744.\u001b[0m\n"
     ]
    },
    {
     "name": "stdout",
     "output_type": "stream",
     "text": [
      "Mean SMAPE: 1.8080\n"
     ]
    },
    {
     "name": "stderr",
     "output_type": "stream",
     "text": [
      "\u001b[32m[I 2023-04-14 21:23:37,531]\u001b[0m Trial 2 finished with value: 1.8374242055638423 and parameters: {'colsample_bytree': 0.8969775740037893, 'colsample_bynode': 0.5517303227364284, 'max_depth': 4, 'learning_rate': 0.06452171612080242, 'alpha': 2.0727376185425914, 'lambda': 2.7888406027341457, 'min_child_weight': 34}. Best is trial 0 with value: 1.803249470593744.\u001b[0m\n"
     ]
    },
    {
     "name": "stdout",
     "output_type": "stream",
     "text": [
      "Mean SMAPE: 1.8374\n"
     ]
    },
    {
     "name": "stderr",
     "output_type": "stream",
     "text": [
      "\u001b[32m[I 2023-04-14 21:23:58,209]\u001b[0m Trial 3 finished with value: 1.9501427948556753 and parameters: {'colsample_bytree': 0.5388187708976597, 'colsample_bynode': 0.7177488836801681, 'max_depth': 4, 'learning_rate': 0.022658561867709908, 'alpha': 5.752395293591239, 'lambda': 6.915065587423101, 'min_child_weight': 165}. Best is trial 0 with value: 1.803249470593744.\u001b[0m\n"
     ]
    },
    {
     "name": "stdout",
     "output_type": "stream",
     "text": [
      "Mean SMAPE: 1.9501\n"
     ]
    },
    {
     "name": "stderr",
     "output_type": "stream",
     "text": [
      "\u001b[32m[I 2023-04-14 21:24:17,855]\u001b[0m Trial 4 finished with value: 1.8023944964579424 and parameters: {'colsample_bytree': 0.4454304843601765, 'colsample_bynode': 0.4406783649105078, 'max_depth': 3, 'learning_rate': 0.07044926152321077, 'alpha': 3.4816204603697933, 'lambda': 8.968833568760601, 'min_child_weight': 128}. Best is trial 4 with value: 1.8023944964579424.\u001b[0m\n"
     ]
    },
    {
     "name": "stdout",
     "output_type": "stream",
     "text": [
      "Mean SMAPE: 1.8024\n"
     ]
    },
    {
     "name": "stderr",
     "output_type": "stream",
     "text": [
      "\u001b[32m[I 2023-04-14 21:24:30,936]\u001b[0m Trial 5 finished with value: 6.595866871511253 and parameters: {'colsample_bytree': 0.9117134020108526, 'colsample_bynode': 0.4359084046021626, 'max_depth': 3, 'learning_rate': 0.010435218884365577, 'alpha': 9.658662633175634, 'lambda': 2.8619230022715056, 'min_child_weight': 184}. Best is trial 4 with value: 1.8023944964579424.\u001b[0m\n"
     ]
    },
    {
     "name": "stdout",
     "output_type": "stream",
     "text": [
      "Mean SMAPE: 6.5959\n"
     ]
    },
    {
     "name": "stderr",
     "output_type": "stream",
     "text": [
      "\u001b[32m[I 2023-04-14 21:24:49,898]\u001b[0m Trial 6 finished with value: 1.8531438690552533 and parameters: {'colsample_bytree': 0.8679495154930775, 'colsample_bynode': 0.43015765224230973, 'max_depth': 3, 'learning_rate': 0.026594879439767957, 'alpha': 8.602585904809867, 'lambda': 0.9604610647518953, 'min_child_weight': 174}. Best is trial 4 with value: 1.8023944964579424.\u001b[0m\n"
     ]
    },
    {
     "name": "stdout",
     "output_type": "stream",
     "text": [
      "Mean SMAPE: 1.8531\n"
     ]
    },
    {
     "name": "stderr",
     "output_type": "stream",
     "text": [
      "\u001b[32m[I 2023-04-14 21:25:24,008]\u001b[0m Trial 7 finished with value: 1.8082388857368525 and parameters: {'colsample_bytree': 0.8815294347264775, 'colsample_bynode': 0.3592983166094136, 'max_depth': 6, 'learning_rate': 0.04047243092559217, 'alpha': 3.56826210277354, 'lambda': 8.633045780212402, 'min_child_weight': 135}. Best is trial 4 with value: 1.8023944964579424.\u001b[0m\n"
     ]
    },
    {
     "name": "stdout",
     "output_type": "stream",
     "text": [
      "Mean SMAPE: 1.8082\n"
     ]
    },
    {
     "name": "stderr",
     "output_type": "stream",
     "text": [
      "\u001b[32m[I 2023-04-14 21:26:19,250]\u001b[0m Trial 8 finished with value: 1.8349215576156368 and parameters: {'colsample_bytree': 0.5644285037421747, 'colsample_bynode': 0.6036854782740698, 'max_depth': 8, 'learning_rate': 0.05314486587317957, 'alpha': 3.645582394958934, 'lambda': 6.062061777466211, 'min_child_weight': 27}. Best is trial 4 with value: 1.8023944964579424.\u001b[0m\n"
     ]
    },
    {
     "name": "stdout",
     "output_type": "stream",
     "text": [
      "Mean SMAPE: 1.8349\n"
     ]
    },
    {
     "name": "stderr",
     "output_type": "stream",
     "text": [
      "\u001b[32m[I 2023-04-14 21:27:05,847]\u001b[0m Trial 9 finished with value: 1.8412029462615387 and parameters: {'colsample_bytree': 0.45319047304363336, 'colsample_bynode': 0.9440636329933008, 'max_depth': 6, 'learning_rate': 0.04691720878277397, 'alpha': 0.17023645924574246, 'lambda': 4.059910156509896, 'min_child_weight': 36}. Best is trial 4 with value: 1.8023944964579424.\u001b[0m\n"
     ]
    },
    {
     "name": "stdout",
     "output_type": "stream",
     "text": [
      "Mean SMAPE: 1.8412\n"
     ]
    },
    {
     "name": "stderr",
     "output_type": "stream",
     "text": [
      "\u001b[32m[I 2023-04-14 21:27:25,352]\u001b[0m Trial 10 finished with value: 1.8072038827946453 and parameters: {'colsample_bytree': 0.12564512295103042, 'colsample_bynode': 0.14910921354247603, 'max_depth': 10, 'learning_rate': 0.0985986032252408, 'alpha': 6.152583204674475, 'lambda': 9.771032367449173, 'min_child_weight': 248}. Best is trial 4 with value: 1.8023944964579424.\u001b[0m\n"
     ]
    },
    {
     "name": "stdout",
     "output_type": "stream",
     "text": [
      "Mean SMAPE: 1.8072\n"
     ]
    },
    {
     "name": "stderr",
     "output_type": "stream",
     "text": [
      "\u001b[32m[I 2023-04-14 21:27:41,023]\u001b[0m Trial 11 finished with value: 1.8067008322337845 and parameters: {'colsample_bytree': 0.1002090050748849, 'colsample_bynode': 0.14089114605772923, 'max_depth': 8, 'learning_rate': 0.0823428507291614, 'alpha': 4.626372392856667, 'lambda': 5.673181776263391, 'min_child_weight': 93}. Best is trial 4 with value: 1.8023944964579424.\u001b[0m\n"
     ]
    },
    {
     "name": "stdout",
     "output_type": "stream",
     "text": [
      "Mean SMAPE: 1.8067\n"
     ]
    },
    {
     "name": "stderr",
     "output_type": "stream",
     "text": [
      "\u001b[32m[I 2023-04-14 21:28:09,020]\u001b[0m Trial 12 finished with value: 1.809980119680862 and parameters: {'colsample_bytree': 0.27507990701484786, 'colsample_bynode': 0.2618529938083808, 'max_depth': 8, 'learning_rate': 0.0644493798369822, 'alpha': 2.74358613273084, 'lambda': 7.057967771693754, 'min_child_weight': 97}. Best is trial 4 with value: 1.8023944964579424.\u001b[0m\n"
     ]
    },
    {
     "name": "stdout",
     "output_type": "stream",
     "text": [
      "Mean SMAPE: 1.8100\n"
     ]
    },
    {
     "name": "stderr",
     "output_type": "stream",
     "text": [
      "\u001b[32m[I 2023-04-14 21:28:40,411]\u001b[0m Trial 13 finished with value: 1.8041517405499838 and parameters: {'colsample_bytree': 0.2899925761382155, 'colsample_bynode': 0.22808660835517652, 'max_depth': 9, 'learning_rate': 0.07845204895371492, 'alpha': 4.714974622844053, 'lambda': 4.860425723447842, 'min_child_weight': 89}. Best is trial 4 with value: 1.8023944964579424.\u001b[0m\n"
     ]
    },
    {
     "name": "stdout",
     "output_type": "stream",
     "text": [
      "Mean SMAPE: 1.8042\n"
     ]
    },
    {
     "name": "stderr",
     "output_type": "stream",
     "text": [
      "\u001b[32m[I 2023-04-14 21:28:57,351]\u001b[0m Trial 14 finished with value: 1.817219927990374 and parameters: {'colsample_bytree': 0.2726904513520999, 'colsample_bynode': 0.10002118637172003, 'max_depth': 5, 'learning_rate': 0.09849447863173595, 'alpha': 1.8819185918764898, 'lambda': 9.939059561139535, 'min_child_weight': 136}. Best is trial 4 with value: 1.8023944964579424.\u001b[0m\n"
     ]
    },
    {
     "name": "stdout",
     "output_type": "stream",
     "text": [
      "Mean SMAPE: 1.8172\n"
     ]
    },
    {
     "name": "stderr",
     "output_type": "stream",
     "text": [
      "\u001b[32m[I 2023-04-14 21:29:29,108]\u001b[0m Trial 15 finished with value: 1.8070408612375513 and parameters: {'colsample_bytree': 0.3851920268652001, 'colsample_bynode': 0.4056552716757093, 'max_depth': 7, 'learning_rate': 0.05840356173504955, 'alpha': 7.233879314269442, 'lambda': 7.924305313633008, 'min_child_weight': 77}. Best is trial 4 with value: 1.8023944964579424.\u001b[0m\n"
     ]
    },
    {
     "name": "stdout",
     "output_type": "stream",
     "text": [
      "Mean SMAPE: 1.8070\n"
     ]
    },
    {
     "name": "stderr",
     "output_type": "stream",
     "text": [
      "\u001b[32m[I 2023-04-14 21:30:02,485]\u001b[0m Trial 16 finished with value: 1.807770577873298 and parameters: {'colsample_bytree': 0.6731101633671689, 'colsample_bynode': 0.2564802577098606, 'max_depth': 10, 'learning_rate': 0.0358345720356659, 'alpha': 4.844376479873517, 'lambda': 6.672596485777712, 'min_child_weight': 212}. Best is trial 4 with value: 1.8023944964579424.\u001b[0m\n"
     ]
    },
    {
     "name": "stdout",
     "output_type": "stream",
     "text": [
      "Mean SMAPE: 1.8078\n"
     ]
    },
    {
     "name": "stderr",
     "output_type": "stream",
     "text": [
      "\u001b[32m[I 2023-04-14 21:30:27,579]\u001b[0m Trial 17 finished with value: 1.797837432080779 and parameters: {'colsample_bytree': 0.1855095282932457, 'colsample_bynode': 0.4767718115446537, 'max_depth': 7, 'learning_rate': 0.049571666682710215, 'alpha': 3.9080858816277497, 'lambda': 4.8380412070727985, 'min_child_weight': 117}. Best is trial 17 with value: 1.797837432080779.\u001b[0m\n"
     ]
    },
    {
     "name": "stdout",
     "output_type": "stream",
     "text": [
      "Mean SMAPE: 1.7978\n"
     ]
    },
    {
     "name": "stderr",
     "output_type": "stream",
     "text": [
      "\u001b[32m[I 2023-04-14 21:30:56,736]\u001b[0m Trial 18 finished with value: 1.8133464667972459 and parameters: {'colsample_bytree': 0.37588198210016677, 'colsample_bynode': 0.5150589517352075, 'max_depth': 5, 'learning_rate': 0.07410277178128263, 'alpha': 3.2256701142538433, 'lambda': 4.00769844613148, 'min_child_weight': 119}. Best is trial 17 with value: 1.797837432080779.\u001b[0m\n"
     ]
    },
    {
     "name": "stdout",
     "output_type": "stream",
     "text": [
      "Mean SMAPE: 1.8133\n"
     ]
    },
    {
     "name": "stderr",
     "output_type": "stream",
     "text": [
      "\u001b[32m[I 2023-04-14 21:31:20,094]\u001b[0m Trial 19 finished with value: 1.823068282980378 and parameters: {'colsample_bytree': 0.20585844831985012, 'colsample_bynode': 0.6666972960081703, 'max_depth': 7, 'learning_rate': 0.030065556249230234, 'alpha': 5.608142891394996, 'lambda': 8.959388838705339, 'min_child_weight': 153}. Best is trial 17 with value: 1.797837432080779.\u001b[0m\n"
     ]
    },
    {
     "name": "stdout",
     "output_type": "stream",
     "text": [
      "Mean SMAPE: 1.8231\n",
      "XGBoost best trial: 1.797837432080779 with parameters {'colsample_bytree': 0.1855095282932457, 'colsample_bynode': 0.4767718115446537, 'max_depth': 7, 'learning_rate': 0.049571666682710215, 'alpha': 3.9080858816277497, 'lambda': 4.8380412070727985, 'min_child_weight': 117}\n"
     ]
    }
   ],
   "source": [
    "import optuna\n",
    "\n",
    "# Optimize the XGBoost model\n",
    "xgb_study = optuna.create_study(direction='minimize')\n",
    "xgb_study.optimize(lambda trial: xgb_objective(trial, df_train, target_train), n_trials=20)\n",
    "\n",
    "# Print the best trial for XGBoost\n",
    "print(f\"XGBoost best trial: {xgb_study.best_trial.value} with parameters {xgb_study.best_trial.params}\")\n"
   ]
  },
  {
   "cell_type": "code",
   "execution_count": 5,
   "metadata": {},
   "outputs": [],
   "source": [
    "train_df = pd.read_csv('train.csv')\n",
    "params = {'colsample_bytree': 0.1855095282932457, 'colsample_bynode': 0.4767718115446537, 'max_depth': 7, 'learning_rate': 0.049571666682710215, 'alpha': 3.9080858816277497, 'lambda': 4.8380412070727985, 'min_child_weight': 117}\n",
    "xgb_model = xgb.XGBRegressor(**params)"
   ]
  },
  {
   "cell_type": "code",
   "execution_count": 6,
   "metadata": {},
   "outputs": [],
   "source": [
    "xgb_model.fit(df_train, target_train)\n",
    "y_pred = np.exp(xgb_model.predict(df_test)) * df_test.microbusiness_density"
   ]
  },
  {
   "cell_type": "code",
   "execution_count": 9,
   "metadata": {},
   "outputs": [
    {
     "name": "stdout",
     "output_type": "stream",
     "text": [
      "2.0149112484480667\n"
     ]
    }
   ],
   "source": [
    "my_cfips = df_train['cfips'].unique()\n",
    "train = train_df[train_df.cfips.isin(my_cfips)]\n",
    "pred = y_pred.values\n",
    "y_true = train[train.row_id.str.contains('2022-07-01')].microbusiness_density.values\n",
    "print(smape_loss(y_true, pred))"
   ]
  },
  {
   "cell_type": "code",
   "execution_count": null,
   "metadata": {},
   "outputs": [],
   "source": [
    "# clip_err = True\n",
    "\n",
    "# if clip_err:\n",
    "#     df_record = y_pred.merge(y_base, on = 'row_id', how='inner')\n",
    "#     df_record = df_record.merge(y_true, on = 'row_id', how='inner')\n",
    "#     def smape_(y_true, y_pred):\n",
    "#         return 100  * np.sum(2 * np.abs(y_pred - y_true) / (np.abs(y_true) + np.abs(y_pred)))\n",
    "    \n",
    "#     base_err = df_record.apply(lambda x: smape_(x.y_true, x.y_base), axis=1)\n",
    "#     pred_err = df_record.apply(lambda x: smape_(x.y_true, x.microbusiness_density), axis=1)\n",
    "#     blacklist = base_err[(base_err + 1e-3) < pred_err].index\n",
    "#     y_pred.iloc[blacklist] = y_base.iloc[blacklist]\n",
    "#     avg_base_err = base_err.mean()\n",
    "#     avg_pred_err = pred_err.mean()\n",
    "#     print(avg_base_err, avg_pred_err)\n",
    "#     df_sub = pd.read_csv('sample_submission.csv')\n",
    "#     df_sub = df_sub.drop(columns='microbusiness_density')\n",
    "#     df_sub['cfips'] = df_sub.row_id.str.split('_', expand=True)[0]\n",
    "#     y_pred['cfips'] = y_pred.row_id.str.split('_', expand=True)[0]\n",
    "#     merged_df = df_sub.merge(y_pred, on='cfips', how='left', suffixes=('', '_drop'))\n",
    "#     merged_df = merged_df.loc[:,~merged_df.columns.str.endswith('_drop')]\n",
    "#     # merged_df = merged_df.drop(columns='cfips')\n",
    "# else:\n",
    "#     df_sub = pd.read_csv('sample_submission.csv')\n",
    "#     df_sub = df_sub.drop(columns='microbusiness_density')\n",
    "#     df_sub['cfips'] = df_sub.row_id.str.split('_', expand=True)[0]\n",
    "#     y_pred['cfips'] = y_pred.row_id.str.split('_', expand=True)[0]\n",
    "#     merged_df = df_sub.merge(y_pred, on='cfips', how='left', suffixes=('', '_drop'))\n",
    "#     merged_df = merged_df.loc[:,~merged_df.columns.str.endswith('_drop')]\n",
    "#     # merged_df = merged_df.drop(columns='cfips')"
   ]
  }
 ],
 "metadata": {
  "kernelspec": {
   "display_name": "Python 3 (ipykernel)",
   "language": "python",
   "name": "python3"
  },
  "language_info": {
   "codemirror_mode": {
    "name": "ipython",
    "version": 3
   },
   "file_extension": ".py",
   "mimetype": "text/x-python",
   "name": "python",
   "nbconvert_exporter": "python",
   "pygments_lexer": "ipython3",
   "version": "3.9.16"
  }
 },
 "nbformat": 4,
 "nbformat_minor": 2
}
