{
 "cells": [
  {
   "cell_type": "code",
   "execution_count": 2,
   "metadata": {},
   "outputs": [],
   "source": [
    "import pandas as pd\n",
    "import numpy as np\n",
    "\n",
    "df_mai = pd.read_csv('VF_mai_counties_Q222.csv')\n",
    "df_indcom = pd.read_csv('VF_indcom_counties_Q222.csv')\n",
    "df_census = pd.read_csv('census.csv')"
   ]
  },
  {
   "cell_type": "code",
   "execution_count": 3,
   "metadata": {},
   "outputs": [],
   "source": [
    "def preprocess(df, value_name, split_str):\n",
    "    df = df.melt(id_vars='cfips', var_name='month', value_name=value_name)\n",
    "    df.month = df.month.apply(lambda x: x.split(split_str, 1)[1])\n",
    "    df['month'] = pd.to_datetime(df['month'], format='%b%y').dt.to_period('M').apply(lambda x: x.to_timestamp())\n",
    "    df['row_id'] = df.cfips.astype(str) + '_' + df['month'].dt.strftime('%Y-%m-%d')\n",
    "    df = df.drop_duplicates()\n",
    "    return df"
   ]
  },
  {
   "cell_type": "code",
   "execution_count": 4,
   "metadata": {},
   "outputs": [],
   "source": [
    "df_indcom = df_indcom[~df_indcom.cfips.isna()]\n",
    "df_indcom = df_indcom.drop_duplicates(subset='cfips')\n",
    "df_indcom.cfips = df_indcom.cfips.astype(int)\n",
    "df_base = pd.concat([df_indcom.iloc[:, 0:5], df_indcom.iloc[:, -1]], axis=1)\n",
    "\n",
    "df_order = pd.concat([df_indcom.iloc[:, 0], df_indcom.iloc[:, 5:40]], axis=1)\n",
    "df_order = preprocess(df_order, 'orders_rank', 'orders_rank_')\n",
    "df_merch = pd.concat([df_indcom.iloc[:, 0], df_indcom.iloc[:, 40:75]], axis=1)\n",
    "df_merch = preprocess(df_merch, 'merchants_rank', 'merchants_rank_')\n",
    "df_gmv = pd.concat([df_indcom.iloc[:, 0], df_indcom.iloc[:, 75:110]], axis=1)\n",
    "df_gmv = preprocess(df_gmv, 'gmv_rank', 'gmv_rank_')\n",
    "df_avg_tr = pd.concat([df_indcom.iloc[:, 0], df_indcom.iloc[:, 145:180]], axis=1)\n",
    "df_avg_tr = preprocess(df_avg_tr, 'avg_traffic', 'avg_traffic_')"
   ]
  },
  {
   "cell_type": "code",
   "execution_count": 5,
   "metadata": {},
   "outputs": [],
   "source": [
    "df_merged = df_order\n",
    "for i in [df_merch, df_gmv, df_avg_tr]:\n",
    "    df_merged = pd.merge(df_merged, i, on=['cfips', 'month', 'row_id'], how='inner')\n",
    "\n",
    "df_merged = pd.merge(df_merged, df_base, on='cfips')"
   ]
  },
  {
   "cell_type": "code",
   "execution_count": 6,
   "metadata": {},
   "outputs": [],
   "source": [
    "df_encoded = pd.get_dummies(df_merged['groupflag'])\n",
    "df_merged = df_merged.drop(columns='groupflag')\n",
    "df_merged.month = pd.to_datetime(df_merged.month, format='%b%y')\n",
    "df = pd.concat([df_merged, df_encoded], axis=1)"
   ]
  },
  {
   "cell_type": "code",
   "execution_count": 8,
   "metadata": {},
   "outputs": [],
   "source": [
    "df = df.drop(columns=['county', 'state'])"
   ]
  },
  {
   "cell_type": "code",
   "execution_count": 9,
   "metadata": {},
   "outputs": [],
   "source": [
    "def normalized_rank_change(df, column, n):\n",
    "    col = df.groupby('cfips').apply(lambda x: (x[column] - x[column].shift()) / n).reset_index(drop=True)\n",
    "    col = col.fillna(0)\n",
    "    return col\n",
    "n = df.cfips.nunique()\n",
    "\n",
    "df['nrc_order'] = normalized_rank_change(df, 'orders_rank', n)\n",
    "df['nrc_merch'] = normalized_rank_change(df, 'merchants_rank', n)\n",
    "df['nrc_gmv'] = normalized_rank_change(df, 'gmv_rank', n)"
   ]
  },
  {
   "cell_type": "code",
   "execution_count": 11,
   "metadata": {},
   "outputs": [],
   "source": [
    "df.to_csv('df_cleaned.csv')"
   ]
  }
 ],
 "metadata": {
  "kernelspec": {
   "display_name": "base_env",
   "language": "python",
   "name": "python3"
  },
  "language_info": {
   "codemirror_mode": {
    "name": "ipython",
    "version": 3
   },
   "file_extension": ".py",
   "mimetype": "text/x-python",
   "name": "python",
   "nbconvert_exporter": "python",
   "pygments_lexer": "ipython3",
   "version": "3.8.16"
  },
  "orig_nbformat": 4,
  "vscode": {
   "interpreter": {
    "hash": "39512f3c2a1741d7f752d45a133d4514127029333ea14bc2f3c6c5e6759b9029"
   }
  }
 },
 "nbformat": 4,
 "nbformat_minor": 2
}
