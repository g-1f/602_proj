{
 "cells": [
  {
   "cell_type": "code",
   "execution_count": 1,
   "metadata": {},
   "outputs": [
    {
     "ename": "ValueError",
     "evalue": "malformed node or string: [230, 752, 814, 481]",
     "output_type": "error",
     "traceback": [
      "\u001b[0;31m---------------------------------------------------------------------------\u001b[0m",
      "\u001b[0;31mValueError\u001b[0m                                Traceback (most recent call last)",
      "\u001b[1;32m/Users/gyf/JHU/Spring 22/Data Mining/Project/602_proj/gnn_data_prep.ipynb Cell 1\u001b[0m in \u001b[0;36m<module>\u001b[0;34m\u001b[0m\n\u001b[1;32m     <a href='vscode-notebook-cell:/Users/gyf/JHU/Spring%2022/Data%20Mining/Project/602_proj/gnn_data_prep.ipynb#W0sZmlsZQ%3D%3D?line=37'>38</a>\u001b[0m \u001b[39m# Update the distances column in the neighb DataFrame\u001b[39;00m\n\u001b[1;32m     <a href='vscode-notebook-cell:/Users/gyf/JHU/Spring%2022/Data%20Mining/Project/602_proj/gnn_data_prep.ipynb#W0sZmlsZQ%3D%3D?line=38'>39</a>\u001b[0m neighb[\u001b[39m'\u001b[39m\u001b[39mdistances\u001b[39m\u001b[39m'\u001b[39m] \u001b[39m=\u001b[39m neighb\u001b[39m.\u001b[39mapply(\u001b[39mlambda\u001b[39;00m x: calculate_distances(x, x[\u001b[39m'\u001b[39m\u001b[39mneighbors\u001b[39m\u001b[39m'\u001b[39m], neighb), axis\u001b[39m=\u001b[39m\u001b[39m1\u001b[39m)\n\u001b[0;32m---> <a href='vscode-notebook-cell:/Users/gyf/JHU/Spring%2022/Data%20Mining/Project/602_proj/gnn_data_prep.ipynb#W0sZmlsZQ%3D%3D?line=39'>40</a>\u001b[0m neighb[\u001b[39m'\u001b[39m\u001b[39mdistances\u001b[39m\u001b[39m'\u001b[39m] \u001b[39m=\u001b[39m neighb\u001b[39m.\u001b[39;49mapply(\u001b[39mlambda\u001b[39;49;00m x: ast\u001b[39m.\u001b[39;49mliteral_eval(x\u001b[39m.\u001b[39;49mdistances), axis\u001b[39m=\u001b[39;49m\u001b[39m1\u001b[39;49m)\n\u001b[1;32m     <a href='vscode-notebook-cell:/Users/gyf/JHU/Spring%2022/Data%20Mining/Project/602_proj/gnn_data_prep.ipynb#W0sZmlsZQ%3D%3D?line=40'>41</a>\u001b[0m neighb[\u001b[39m'\u001b[39m\u001b[39moriginal_cfips\u001b[39m\u001b[39m'\u001b[39m] \u001b[39m=\u001b[39m neighb[\u001b[39m'\u001b[39m\u001b[39mcfips\u001b[39m\u001b[39m'\u001b[39m]\n\u001b[1;32m     <a href='vscode-notebook-cell:/Users/gyf/JHU/Spring%2022/Data%20Mining/Project/602_proj/gnn_data_prep.ipynb#W0sZmlsZQ%3D%3D?line=41'>42</a>\u001b[0m neighb[\u001b[39m'\u001b[39m\u001b[39mcfips\u001b[39m\u001b[39m'\u001b[39m] \u001b[39m=\u001b[39m \u001b[39mrange\u001b[39m(\u001b[39m0\u001b[39m, \u001b[39mlen\u001b[39m(neighb))\n",
      "File \u001b[0;32m/opt/homebrew/Caskroom/miniforge/base/envs/base_env/lib/python3.8/site-packages/pandas/core/frame.py:8827\u001b[0m, in \u001b[0;36mDataFrame.apply\u001b[0;34m(self, func, axis, raw, result_type, args, **kwargs)\u001b[0m\n\u001b[1;32m   8816\u001b[0m \u001b[39mfrom\u001b[39;00m \u001b[39mpandas\u001b[39;00m\u001b[39m.\u001b[39;00m\u001b[39mcore\u001b[39;00m\u001b[39m.\u001b[39;00m\u001b[39mapply\u001b[39;00m \u001b[39mimport\u001b[39;00m frame_apply\n\u001b[1;32m   8818\u001b[0m op \u001b[39m=\u001b[39m frame_apply(\n\u001b[1;32m   8819\u001b[0m     \u001b[39mself\u001b[39m,\n\u001b[1;32m   8820\u001b[0m     func\u001b[39m=\u001b[39mfunc,\n\u001b[0;32m   (...)\u001b[0m\n\u001b[1;32m   8825\u001b[0m     kwargs\u001b[39m=\u001b[39mkwargs,\n\u001b[1;32m   8826\u001b[0m )\n\u001b[0;32m-> 8827\u001b[0m \u001b[39mreturn\u001b[39;00m op\u001b[39m.\u001b[39;49mapply()\u001b[39m.\u001b[39m__finalize__(\u001b[39mself\u001b[39m, method\u001b[39m=\u001b[39m\u001b[39m\"\u001b[39m\u001b[39mapply\u001b[39m\u001b[39m\"\u001b[39m)\n",
      "File \u001b[0;32m/opt/homebrew/Caskroom/miniforge/base/envs/base_env/lib/python3.8/site-packages/pandas/core/apply.py:727\u001b[0m, in \u001b[0;36mFrameApply.apply\u001b[0;34m(self)\u001b[0m\n\u001b[1;32m    724\u001b[0m \u001b[39melif\u001b[39;00m \u001b[39mself\u001b[39m\u001b[39m.\u001b[39mraw:\n\u001b[1;32m    725\u001b[0m     \u001b[39mreturn\u001b[39;00m \u001b[39mself\u001b[39m\u001b[39m.\u001b[39mapply_raw()\n\u001b[0;32m--> 727\u001b[0m \u001b[39mreturn\u001b[39;00m \u001b[39mself\u001b[39;49m\u001b[39m.\u001b[39;49mapply_standard()\n",
      "File \u001b[0;32m/opt/homebrew/Caskroom/miniforge/base/envs/base_env/lib/python3.8/site-packages/pandas/core/apply.py:851\u001b[0m, in \u001b[0;36mFrameApply.apply_standard\u001b[0;34m(self)\u001b[0m\n\u001b[1;32m    850\u001b[0m \u001b[39mdef\u001b[39;00m \u001b[39mapply_standard\u001b[39m(\u001b[39mself\u001b[39m):\n\u001b[0;32m--> 851\u001b[0m     results, res_index \u001b[39m=\u001b[39m \u001b[39mself\u001b[39;49m\u001b[39m.\u001b[39;49mapply_series_generator()\n\u001b[1;32m    853\u001b[0m     \u001b[39m# wrap results\u001b[39;00m\n\u001b[1;32m    854\u001b[0m     \u001b[39mreturn\u001b[39;00m \u001b[39mself\u001b[39m\u001b[39m.\u001b[39mwrap_results(results, res_index)\n",
      "File \u001b[0;32m/opt/homebrew/Caskroom/miniforge/base/envs/base_env/lib/python3.8/site-packages/pandas/core/apply.py:867\u001b[0m, in \u001b[0;36mFrameApply.apply_series_generator\u001b[0;34m(self)\u001b[0m\n\u001b[1;32m    864\u001b[0m \u001b[39mwith\u001b[39;00m option_context(\u001b[39m\"\u001b[39m\u001b[39mmode.chained_assignment\u001b[39m\u001b[39m\"\u001b[39m, \u001b[39mNone\u001b[39;00m):\n\u001b[1;32m    865\u001b[0m     \u001b[39mfor\u001b[39;00m i, v \u001b[39min\u001b[39;00m \u001b[39menumerate\u001b[39m(series_gen):\n\u001b[1;32m    866\u001b[0m         \u001b[39m# ignore SettingWithCopy here in case the user mutates\u001b[39;00m\n\u001b[0;32m--> 867\u001b[0m         results[i] \u001b[39m=\u001b[39m \u001b[39mself\u001b[39;49m\u001b[39m.\u001b[39;49mf(v)\n\u001b[1;32m    868\u001b[0m         \u001b[39mif\u001b[39;00m \u001b[39misinstance\u001b[39m(results[i], ABCSeries):\n\u001b[1;32m    869\u001b[0m             \u001b[39m# If we have a view on v, we need to make a copy because\u001b[39;00m\n\u001b[1;32m    870\u001b[0m             \u001b[39m#  series_generator will swap out the underlying data\u001b[39;00m\n\u001b[1;32m    871\u001b[0m             results[i] \u001b[39m=\u001b[39m results[i]\u001b[39m.\u001b[39mcopy(deep\u001b[39m=\u001b[39m\u001b[39mFalse\u001b[39;00m)\n",
      "\u001b[1;32m/Users/gyf/JHU/Spring 22/Data Mining/Project/602_proj/gnn_data_prep.ipynb Cell 1\u001b[0m in \u001b[0;36m<lambda>\u001b[0;34m(x)\u001b[0m\n\u001b[1;32m     <a href='vscode-notebook-cell:/Users/gyf/JHU/Spring%2022/Data%20Mining/Project/602_proj/gnn_data_prep.ipynb#W0sZmlsZQ%3D%3D?line=37'>38</a>\u001b[0m \u001b[39m# Update the distances column in the neighb DataFrame\u001b[39;00m\n\u001b[1;32m     <a href='vscode-notebook-cell:/Users/gyf/JHU/Spring%2022/Data%20Mining/Project/602_proj/gnn_data_prep.ipynb#W0sZmlsZQ%3D%3D?line=38'>39</a>\u001b[0m neighb[\u001b[39m'\u001b[39m\u001b[39mdistances\u001b[39m\u001b[39m'\u001b[39m] \u001b[39m=\u001b[39m neighb\u001b[39m.\u001b[39mapply(\u001b[39mlambda\u001b[39;00m x: calculate_distances(x, x[\u001b[39m'\u001b[39m\u001b[39mneighbors\u001b[39m\u001b[39m'\u001b[39m], neighb), axis\u001b[39m=\u001b[39m\u001b[39m1\u001b[39m)\n\u001b[0;32m---> <a href='vscode-notebook-cell:/Users/gyf/JHU/Spring%2022/Data%20Mining/Project/602_proj/gnn_data_prep.ipynb#W0sZmlsZQ%3D%3D?line=39'>40</a>\u001b[0m neighb[\u001b[39m'\u001b[39m\u001b[39mdistances\u001b[39m\u001b[39m'\u001b[39m] \u001b[39m=\u001b[39m neighb\u001b[39m.\u001b[39mapply(\u001b[39mlambda\u001b[39;00m x: ast\u001b[39m.\u001b[39;49mliteral_eval(x\u001b[39m.\u001b[39;49mdistances), axis\u001b[39m=\u001b[39m\u001b[39m1\u001b[39m)\n\u001b[1;32m     <a href='vscode-notebook-cell:/Users/gyf/JHU/Spring%2022/Data%20Mining/Project/602_proj/gnn_data_prep.ipynb#W0sZmlsZQ%3D%3D?line=40'>41</a>\u001b[0m neighb[\u001b[39m'\u001b[39m\u001b[39moriginal_cfips\u001b[39m\u001b[39m'\u001b[39m] \u001b[39m=\u001b[39m neighb[\u001b[39m'\u001b[39m\u001b[39mcfips\u001b[39m\u001b[39m'\u001b[39m]\n\u001b[1;32m     <a href='vscode-notebook-cell:/Users/gyf/JHU/Spring%2022/Data%20Mining/Project/602_proj/gnn_data_prep.ipynb#W0sZmlsZQ%3D%3D?line=41'>42</a>\u001b[0m neighb[\u001b[39m'\u001b[39m\u001b[39mcfips\u001b[39m\u001b[39m'\u001b[39m] \u001b[39m=\u001b[39m \u001b[39mrange\u001b[39m(\u001b[39m0\u001b[39m, \u001b[39mlen\u001b[39m(neighb))\n",
      "File \u001b[0;32m/opt/homebrew/Caskroom/miniforge/base/envs/base_env/lib/python3.8/ast.py:99\u001b[0m, in \u001b[0;36mliteral_eval\u001b[0;34m(node_or_string)\u001b[0m\n\u001b[1;32m     97\u001b[0m                 \u001b[39mreturn\u001b[39;00m left \u001b[39m-\u001b[39m right\n\u001b[1;32m     98\u001b[0m     \u001b[39mreturn\u001b[39;00m _convert_signed_num(node)\n\u001b[0;32m---> 99\u001b[0m \u001b[39mreturn\u001b[39;00m _convert(node_or_string)\n",
      "File \u001b[0;32m/opt/homebrew/Caskroom/miniforge/base/envs/base_env/lib/python3.8/ast.py:98\u001b[0m, in \u001b[0;36mliteral_eval.<locals>._convert\u001b[0;34m(node)\u001b[0m\n\u001b[1;32m     96\u001b[0m         \u001b[39melse\u001b[39;00m:\n\u001b[1;32m     97\u001b[0m             \u001b[39mreturn\u001b[39;00m left \u001b[39m-\u001b[39m right\n\u001b[0;32m---> 98\u001b[0m \u001b[39mreturn\u001b[39;00m _convert_signed_num(node)\n",
      "File \u001b[0;32m/opt/homebrew/Caskroom/miniforge/base/envs/base_env/lib/python3.8/ast.py:75\u001b[0m, in \u001b[0;36mliteral_eval.<locals>._convert_signed_num\u001b[0;34m(node)\u001b[0m\n\u001b[1;32m     73\u001b[0m     \u001b[39melse\u001b[39;00m:\n\u001b[1;32m     74\u001b[0m         \u001b[39mreturn\u001b[39;00m \u001b[39m-\u001b[39m operand\n\u001b[0;32m---> 75\u001b[0m \u001b[39mreturn\u001b[39;00m _convert_num(node)\n",
      "File \u001b[0;32m/opt/homebrew/Caskroom/miniforge/base/envs/base_env/lib/python3.8/ast.py:66\u001b[0m, in \u001b[0;36mliteral_eval.<locals>._convert_num\u001b[0;34m(node)\u001b[0m\n\u001b[1;32m     64\u001b[0m \u001b[39mdef\u001b[39;00m \u001b[39m_convert_num\u001b[39m(node):\n\u001b[1;32m     65\u001b[0m     \u001b[39mif\u001b[39;00m \u001b[39mnot\u001b[39;00m \u001b[39misinstance\u001b[39m(node, Constant) \u001b[39mor\u001b[39;00m \u001b[39mtype\u001b[39m(node\u001b[39m.\u001b[39mvalue) \u001b[39mnot\u001b[39;00m \u001b[39min\u001b[39;00m (\u001b[39mint\u001b[39m, \u001b[39mfloat\u001b[39m, \u001b[39mcomplex\u001b[39m):\n\u001b[0;32m---> 66\u001b[0m         _raise_malformed_node(node)\n\u001b[1;32m     67\u001b[0m     \u001b[39mreturn\u001b[39;00m node\u001b[39m.\u001b[39mvalue\n",
      "File \u001b[0;32m/opt/homebrew/Caskroom/miniforge/base/envs/base_env/lib/python3.8/ast.py:63\u001b[0m, in \u001b[0;36mliteral_eval.<locals>._raise_malformed_node\u001b[0;34m(node)\u001b[0m\n\u001b[1;32m     62\u001b[0m \u001b[39mdef\u001b[39;00m \u001b[39m_raise_malformed_node\u001b[39m(node):\n\u001b[0;32m---> 63\u001b[0m     \u001b[39mraise\u001b[39;00m \u001b[39mValueError\u001b[39;00m(\u001b[39mf\u001b[39m\u001b[39m'\u001b[39m\u001b[39mmalformed node or string: \u001b[39m\u001b[39m{\u001b[39;00mnode\u001b[39m!r}\u001b[39;00m\u001b[39m'\u001b[39m)\n",
      "\u001b[0;31mValueError\u001b[0m: malformed node or string: [230, 752, 814, 481]"
     ]
    }
   ],
   "source": [
    "import pandas as pd\n",
    "from geopy import distance\n",
    "import ast\n",
    "\n",
    "neighb = pd.read_csv(\"neighbors.csv\")\n",
    "knn = pd.read_csv('knn.csv')\n",
    "coord = pd.read_csv('cfips_location.csv')\n",
    "neighb = pd.merge(neighb, coord, on='cfips')\n",
    "neighb = neighb.drop(columns='cfips.1')\n",
    "neighb['neighbors_cfips'] = neighb.apply(lambda x: ast.literal_eval(x.neighbors_cfips), axis=1)\n",
    "neighb = neighb.rename(columns={'neighbors_cfips': 'neighbors'})\n",
    "\n",
    "# Create a dictionary with cfips as keys and knn neighbors as values\n",
    "knn_dict = knn.set_index('cfips')[['knn_1', 'knn_2', 'knn_3']].T.to_dict('list')\n",
    "\n",
    "# Function to replace empty neighbors list with knn values\n",
    "def replace_empty_neighbors(neighbors, cfips):\n",
    "    if len(neighbors) == 0:\n",
    "        return knn_dict[cfips]\n",
    "    return neighbors\n",
    "\n",
    "# Update the neighbors column in the neighb DataFrame\n",
    "neighb['neighbors'] = neighb.apply(lambda row: replace_empty_neighbors(row['neighbors'], row['cfips']), axis=1)\n",
    "\n",
    "# Function to calculate distances for given neighbors\n",
    "def calculate_distances(x, neighbours, neighb_df):\n",
    "    distances = []\n",
    "    for cfips in neighbours:\n",
    "        distance_value = round(\n",
    "            distance.distance(\n",
    "                neighb_df.loc[neighb_df.cfips == cfips, ['lat', 'lng']].values,\n",
    "                x[['lat', 'lng']]\n",
    "            ).miles\n",
    "        )\n",
    "        distances.append(distance_value)\n",
    "    return distances\n",
    "\n",
    "# Update the distances column in the neighb DataFrame\n",
    "neighb['distances'] = neighb.apply(lambda x: calculate_distances(x, x['neighbors'], neighb), axis=1)\n",
    "# neighb['distances'] = neighb.apply(lambda x: ast.literal_eval(x.distances), axis=1)\n",
    "neighb['original_cfips'] = neighb['cfips']\n",
    "neighb['cfips'] = range(0, len(neighb))\n",
    "\n",
    "replace_dict = {}\n",
    "for index, row in neighb.iterrows():\n",
    "    replace_dict[row['original_cfips']] = row['cfips']\n",
    "for row in range(len(neighb)):\n",
    "    n_list = []\n",
    "    for n in range(len(neighb.loc[row, 'neighbors'])):\n",
    "        if neighb.loc[row, 'neighbors'][n] in replace_dict.keys():\n",
    "            n_list.append(replace_dict[neighb.loc[row, 'neighbors'][n]])\n",
    "    neighb.loc[row, 'neighbors'] = str(n_list)\n",
    "\n",
    "neighb.to_csv('gnn_neighbor.csv')"
   ]
  },
  {
   "cell_type": "code",
   "execution_count": null,
   "metadata": {},
   "outputs": [],
   "source": []
  }
 ],
 "metadata": {
  "kernelspec": {
   "display_name": "base_env",
   "language": "python",
   "name": "python3"
  },
  "language_info": {
   "codemirror_mode": {
    "name": "ipython",
    "version": 3
   },
   "file_extension": ".py",
   "mimetype": "text/x-python",
   "name": "python",
   "nbconvert_exporter": "python",
   "pygments_lexer": "ipython3",
   "version": "3.8.16"
  },
  "orig_nbformat": 4
 },
 "nbformat": 4,
 "nbformat_minor": 2
}
