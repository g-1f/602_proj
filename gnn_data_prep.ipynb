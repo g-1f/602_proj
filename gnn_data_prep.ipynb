{
 "cells": [
  {
   "cell_type": "code",
   "execution_count": 4,
   "metadata": {},
   "outputs": [],
   "source": [
    "import pandas as pd\n",
    "from geopy import distance\n",
    "import ast\n",
    "\n",
    "neighb = pd.read_csv(\"neighbors.csv\")\n",
    "knn = pd.read_csv('knn.csv')\n",
    "coord = pd.read_csv('cfips_location.csv')\n",
    "neighb = pd.merge(neighb, coord, on='cfips')\n",
    "neighb = neighb.drop(columns='cfips.1')\n",
    "neighb['neighbors_cfips'] = neighb.apply(lambda x: ast.literal_eval(x.neighbors_cfips), axis=1)\n",
    "neighb = neighb.rename(columns={'neighbors_cfips': 'neighbors'})\n",
    "\n",
    "# Create a dictionary with cfips as keys and knn neighbors as values\n",
    "knn_dict = knn.set_index('cfips')[['knn_1', 'knn_2', 'knn_3']].T.to_dict('list')\n",
    "\n",
    "# Function to replace empty neighbors list with knn values\n",
    "def replace_empty_neighbors(neighbors, cfips):\n",
    "    if len(neighbors) == 0:\n",
    "        return knn_dict[cfips]\n",
    "    return neighbors\n",
    "\n",
    "neighb['neighbors'] = neighb.apply(lambda row: replace_empty_neighbors(row['neighbors'], row['cfips']), axis=1)\n",
    "\n",
    "def calculate_distances(x, neighbours, neighb_df):\n",
    "    distances = []\n",
    "    for cfips in neighbours:\n",
    "        distance_value = round(\n",
    "            distance.distance(\n",
    "                neighb_df.loc[neighb_df.cfips == cfips, ['lat', 'lng']].values,\n",
    "                x[['lat', 'lng']]\n",
    "            ).miles\n",
    "        )\n",
    "        distances.append(distance_value)\n",
    "    return distances\n",
    "\n",
    "\n",
    "neighb['distances'] = neighb.apply(lambda x: calculate_distances(x, x['neighbors'], neighb), axis=1)\n",
    "neighb['original_cfips'] = neighb['cfips']\n",
    "neighb['cfips'] = range(0, len(neighb))\n",
    "\n",
    "replace_dict = {}\n",
    "for index, row in neighb.iterrows():\n",
    "    replace_dict[row['original_cfips']] = row['cfips']\n",
    "for row in range(len(neighb)):\n",
    "    n_list = []\n",
    "    for n in range(len(neighb.loc[row, 'neighbors'])):\n",
    "        if neighb.loc[row, 'neighbors'][n] in replace_dict.keys():\n",
    "            n_list.append(replace_dict[neighb.loc[row, 'neighbors'][n]])\n",
    "    neighb.loc[row, 'neighbors'] = str(n_list)\n",
    "\n",
    "neighb.to_csv('gnn_neighbor.csv')"
   ]
  },
  {
   "cell_type": "code",
   "execution_count": null,
   "metadata": {},
   "outputs": [],
   "source": []
  }
 ],
 "metadata": {
  "kernelspec": {
   "display_name": "base_env",
   "language": "python",
   "name": "python3"
  },
  "language_info": {
   "codemirror_mode": {
    "name": "ipython",
    "version": 3
   },
   "file_extension": ".py",
   "mimetype": "text/x-python",
   "name": "python",
   "nbconvert_exporter": "python",
   "pygments_lexer": "ipython3",
   "version": "3.8.16"
  },
  "orig_nbformat": 4
 },
 "nbformat": 4,
 "nbformat_minor": 2
}
